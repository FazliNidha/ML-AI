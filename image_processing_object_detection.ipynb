{
  "nbformat": 4,
  "nbformat_minor": 0,
  "metadata": {
    "colab": {
      "provenance": []
    },
    "kernelspec": {
      "name": "python3",
      "display_name": "Python 3"
    },
    "language_info": {
      "name": "python"
    },
    "accelerator": "GPU",
    "gpuClass": "standard"
  },
  "cells": [
    {
      "cell_type": "code",
      "execution_count": null,
      "metadata": {
        "colab": {
          "base_uri": "https://localhost:8080/"
        },
        "id": "UWksoOy-fxvT",
        "outputId": "a4b80642-0ede-4f2e-c20d-c11ad40e93e7"
      },
      "outputs": [
        {
          "output_type": "stream",
          "name": "stdout",
          "text": [
            "Looking in indexes: https://pypi.org/simple, https://us-python.pkg.dev/colab-wheels/public/simple/\n",
            "Requirement already satisfied: face-recognition in /usr/local/lib/python3.8/dist-packages (1.3.0)\n",
            "Requirement already satisfied: face-recognition-models>=0.3.0 in /usr/local/lib/python3.8/dist-packages (from face-recognition) (0.3.0)\n",
            "Requirement already satisfied: Click>=6.0 in /usr/local/lib/python3.8/dist-packages (from face-recognition) (7.1.2)\n",
            "Requirement already satisfied: dlib>=19.7 in /usr/local/lib/python3.8/dist-packages (from face-recognition) (19.24.0)\n",
            "Requirement already satisfied: Pillow in /usr/local/lib/python3.8/dist-packages (from face-recognition) (7.1.2)\n",
            "Requirement already satisfied: numpy in /usr/local/lib/python3.8/dist-packages (from face-recognition) (1.21.6)\n"
          ]
        }
      ],
      "source": [
        "pip install face-recognition"
      ]
    },
    {
      "cell_type": "code",
      "source": [
        "from PIL import Image\n",
        "import face_recognition\n",
        "import cv2"
      ],
      "metadata": {
        "id": "x2SlIB0MiU2H"
      },
      "execution_count": null,
      "outputs": []
    },
    {
      "cell_type": "code",
      "source": [
        "import face_recognition\n",
        "from PIL import Image, ImageDraw"
      ],
      "metadata": {
        "id": "1xBtpKfUiUzc"
      },
      "execution_count": null,
      "outputs": []
    },
    {
      "cell_type": "code",
      "source": [
        "Messi_image = face_recognition.load_image_file(\"/content/Lionel-Messi.jpg\")\n",
        "Messi_face_encoding = face_recognition.face_encodings(Messi_image)[0]"
      ],
      "metadata": {
        "id": "pvQoTPLdiUwV"
      },
      "execution_count": null,
      "outputs": []
    },
    {
      "cell_type": "code",
      "source": [
        "Dmaria_image = face_recognition.load_image_file(\"/content/de maria.jfif\")\n",
        "Dmaria_face_encoding = face_recognition.face_encodings(Dmaria_image)[0]"
      ],
      "metadata": {
        "id": "TPFf1ogYiUtf"
      },
      "execution_count": null,
      "outputs": []
    },
    {
      "cell_type": "code",
      "source": [
        "Lmartinez_image = face_recognition.load_image_file(\"/content/lautaro martinez.jpg\")\n",
        "Lmartinez_face_encoding = face_recognition.face_encodings(Lmartinez_image)[0]"
      ],
      "metadata": {
        "id": "ks7Zo8AOiUqT"
      },
      "execution_count": null,
      "outputs": []
    },
    {
      "cell_type": "code",
      "source": [
        "molina_image = face_recognition.load_image_file(\"/content/molina.jpg\")\n",
        "molina_face_encoding = face_recognition.face_encodings(molina_image)[0]"
      ],
      "metadata": {
        "id": "Gcew610diUnb"
      },
      "execution_count": null,
      "outputs": []
    },
    {
      "cell_type": "code",
      "source": [
        "depaul_image = face_recognition.load_image_file(\"/content/de paul.jfif\")\n",
        "depaul_face_encoding = face_recognition.face_encodings(depaul_image)[0]"
      ],
      "metadata": {
        "id": "AaX_ie1ciUkG"
      },
      "execution_count": null,
      "outputs": []
    },
    {
      "cell_type": "code",
      "source": [
        "macallister_image = face_recognition.load_image_file(\"/content/mac allister.jfif\")\n",
        "macallister_face_encoding = face_recognition.face_encodings(macallister_image)[0]"
      ],
      "metadata": {
        "id": "3UGPqvyhiUhc"
      },
      "execution_count": null,
      "outputs": []
    },
    {
      "cell_type": "code",
      "source": [
        "romero_image = face_recognition.load_image_file(\"/content/romero.jpg\")\n",
        "romero_face_encoding = face_recognition.face_encodings(romero_image)[0]"
      ],
      "metadata": {
        "id": "HnsYoWjZiUeU"
      },
      "execution_count": null,
      "outputs": []
    },
    {
      "cell_type": "code",
      "source": [
        "emartinez_image = face_recognition.load_image_file(\"/content/emiliano martinez.jfif\")\n",
        "emartinez_face_encoding = face_recognition.face_encodings(emartinez_image)[0]"
      ],
      "metadata": {
        "id": "LQnFmBp_iUbe"
      },
      "execution_count": null,
      "outputs": []
    },
    {
      "cell_type": "code",
      "source": [
        "grodriguez_image = face_recognition.load_image_file(\"/content/grodriguez.jpg\")\n",
        "grodriguez_face_encoding = face_recognition.face_encodings(grodriguez_image)[0]"
      ],
      "metadata": {
        "id": "ivHKqZJ7iUYi"
      },
      "execution_count": null,
      "outputs": []
    },
    {
      "cell_type": "code",
      "source": [
        "otamendi_image = face_recognition.load_image_file(\"/content/otamendi.jfif\")\n",
        "otamendi_face_encoding = face_recognition.face_encodings(otamendi_image)[0]"
      ],
      "metadata": {
        "id": "ypLKgrxQiUVh"
      },
      "execution_count": null,
      "outputs": []
    },
    {
      "cell_type": "code",
      "source": [
        "known_face_encodings = [\n",
        "    Messi_face_encoding,\n",
        "    Dmaria_face_encoding,\n",
        "    Lmartinez_face_encoding,\n",
        "    molina_face_encoding,\n",
        "    depaul_face_encoding,\n",
        "    macallister_face_encoding,\n",
        "    romero_face_encoding,\n",
        "    emartinez_face_encoding,\n",
        "    grodriguez_face_encoding,\n",
        "    otamendi_face_encoding\n",
        "]\n",
        "known_face_names = [\n",
        "    \"Messi\",\n",
        "    \"Dimaria\",\n",
        "    \"Lmartinez\",\n",
        "    \"Molina\",\n",
        "    \"Depaul\",\n",
        "    \"Macallister\",\n",
        "    \"Romero\",\n",
        "    \"Emartinez\",\n",
        "    \"Grodriguez\",\n",
        "    \"Otamendi\"\n",
        "]"
      ],
      "metadata": {
        "id": "CH2SVsRbiUSc"
      },
      "execution_count": null,
      "outputs": []
    },
    {
      "cell_type": "code",
      "source": [
        "# Load an image with an unknown face\n",
        "unknown_image = face_recognition.load_image_file(\"/content/argentina squad.jpeg\")\n",
        "\n",
        "# Find all the faces and face encodings in the unknown image\n",
        "face_locations = face_recognition.face_locations(unknown_image)\n",
        "face_encodings = face_recognition.face_encodings(unknown_image, face_locations)\n",
        "\n",
        "# Convert the image to a PIL-format image so that we can draw on top of it with the Pillow library\n",
        "# See http://pillow.readthedocs.io/ for more about PIL/Pillow\n",
        "pil_image = Image.fromarray(unknown_image)\n",
        "# Create a Pillow ImageDraw Draw instance to draw with\n",
        "draw = ImageDraw.Draw(pil_image)\n",
        "\n",
        "# Loop through each face found in the unknown image\n",
        "for (top, right, bottom, left), face_encoding in zip(face_locations, face_encodings):\n",
        "    # See if the face is a match for the known face(s)\n",
        "    matches = face_recognition.compare_faces(known_face_encodings, face_encoding)\n",
        "\n",
        "    name = \"Unknown\"\n",
        "\n",
        "    # If a match was found in known_face_encodings, just use the first one.\n",
        "    if True in matches:\n",
        "        first_match_index = matches.index(True)\n",
        "        name = known_face_names[first_match_index]\n",
        "\n",
        "    # Draw a box around the face using the Pillow module\n",
        "    draw.rectangle(((left, top), (right, bottom)), outline=(0, 0, 255))\n",
        "\n",
        "    # Draw a label with a name below the face\n",
        "    text_width, text_height = draw.textsize(name)\n",
        "    draw.rectangle(((left, bottom - text_height - 10), (right, bottom)), fill=(0, 0, 255), outline=(0, 0, 255))\n",
        "    draw.text((left + 6, bottom - text_height - 5), name, fill=(255, 255, 255, 255))\n",
        "\n",
        "\n",
        "# Remove the drawing library from memory as per the Pillow docs\n",
        "del draw\n",
        "\n",
        "# Display the resulting image\n",
        "pil_image.show()\n",
        "\n",
        "# You can also save a copy of the new image to disk if you want by uncommenting this line\n",
        "pil_image.save(\"image_with_boxes.jpg\")"
      ],
      "metadata": {
        "id": "jDMSjcE0iUPg"
      },
      "execution_count": null,
      "outputs": []
    },
    {
      "cell_type": "code",
      "source": [],
      "metadata": {
        "id": "Owblm5Q3iUMX"
      },
      "execution_count": null,
      "outputs": []
    },
    {
      "cell_type": "code",
      "source": [],
      "metadata": {
        "id": "ub3pEVxniUJj"
      },
      "execution_count": null,
      "outputs": []
    },
    {
      "cell_type": "code",
      "source": [],
      "metadata": {
        "id": "QknwK2Y1iUGu"
      },
      "execution_count": null,
      "outputs": []
    },
    {
      "cell_type": "code",
      "source": [],
      "metadata": {
        "id": "JcorZRcViUDg"
      },
      "execution_count": null,
      "outputs": []
    },
    {
      "cell_type": "code",
      "source": [],
      "metadata": {
        "id": "gCRfcszziUAr"
      },
      "execution_count": null,
      "outputs": []
    },
    {
      "cell_type": "code",
      "source": [],
      "metadata": {
        "id": "L7oWfvU0iT-E"
      },
      "execution_count": null,
      "outputs": []
    },
    {
      "cell_type": "code",
      "source": [],
      "metadata": {
        "id": "hLDuaHgjiT64"
      },
      "execution_count": null,
      "outputs": []
    },
    {
      "cell_type": "code",
      "source": [],
      "metadata": {
        "id": "getgyqNYiT4i"
      },
      "execution_count": null,
      "outputs": []
    },
    {
      "cell_type": "code",
      "source": [],
      "metadata": {
        "id": "YvJpHJQqiT1a"
      },
      "execution_count": null,
      "outputs": []
    },
    {
      "cell_type": "code",
      "source": [],
      "metadata": {
        "id": "_AM73hVWiTyY"
      },
      "execution_count": null,
      "outputs": []
    },
    {
      "cell_type": "code",
      "source": [],
      "metadata": {
        "id": "YY36_RLViTvY"
      },
      "execution_count": null,
      "outputs": []
    },
    {
      "cell_type": "code",
      "source": [],
      "metadata": {
        "id": "I6mv6afUiTsj"
      },
      "execution_count": null,
      "outputs": []
    },
    {
      "cell_type": "code",
      "source": [],
      "metadata": {
        "id": "xvZF9a_siTpg"
      },
      "execution_count": null,
      "outputs": []
    },
    {
      "cell_type": "code",
      "source": [],
      "metadata": {
        "id": "n9AyYP5eiTmM"
      },
      "execution_count": null,
      "outputs": []
    }
  ]
}