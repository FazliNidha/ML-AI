{
  "nbformat": 4,
  "nbformat_minor": 0,
  "metadata": {
    "colab": {
      "provenance": []
    },
    "kernelspec": {
      "name": "python3",
      "display_name": "Python 3"
    },
    "language_info": {
      "name": "python"
    }
  },
  "cells": [
    {
      "cell_type": "code",
      "execution_count": null,
      "metadata": {
        "id": "eWPcEnHRzoyE"
      },
      "outputs": [],
      "source": [
        "import pandas as pd\n",
        "import numpy as np"
      ]
    },
    {
      "cell_type": "code",
      "source": [
        "data=pd.read_csv(\"/content/car_purchasing.csv\",encoding='latin-1')"
      ],
      "metadata": {
        "id": "sV04LhEGzvNQ"
      },
      "execution_count": null,
      "outputs": []
    },
    {
      "cell_type": "code",
      "source": [
        "data"
      ],
      "metadata": {
        "colab": {
          "base_uri": "https://localhost:8080/",
          "height": 467
        },
        "id": "pdP8KVb7zvJ2",
        "outputId": "23082017-6444-4e63-e8d9-70e15b6a3abc"
      },
      "execution_count": null,
      "outputs": [
        {
          "output_type": "execute_result",
          "data": {
            "text/plain": [
              "       customer name                                    customer e-mail  \\\n",
              "0      Martina Avila  cubilia.Curae.Phasellus@quisaccumsanconvallis.edu   \n",
              "1      Harlan Barnes                                eu.dolor@diam.co.uk   \n",
              "2    Naomi Rodriquez  vulputate.mauris.sagittis@ametconsectetueradip...   \n",
              "3    Jade Cunningham                            malesuada@dignissim.com   \n",
              "4       Cedric Leach     felis.ullamcorper.viverra@egetmollislectus.net   \n",
              "..               ...                                                ...   \n",
              "495           Walter                                ligula@Cumsociis.ca   \n",
              "496            Vanna                 Cum.sociis.natoque@Sedmolestie.edu   \n",
              "497            Pearl                      penatibus.et@massanonante.com   \n",
              "498             Nell                  Quisque.varius@arcuVivamussit.net   \n",
              "499            Marla                          Camaron.marla@hotmail.com   \n",
              "\n",
              "          country  gender        age  annual Salary  credit card debt  \\\n",
              "0        Bulgaria       0  41.851720    62812.09301      11609.380910   \n",
              "1          Belize       0  40.870623    66646.89292       9572.957136   \n",
              "2         Algeria       1  43.152897    53798.55112      11160.355060   \n",
              "3    Cook Islands       1  58.271369    79370.03798      14426.164850   \n",
              "4          Brazil       1  57.313749    59729.15130       5358.712177   \n",
              "..            ...     ...        ...            ...               ...   \n",
              "495         Nepal       0  41.462515    71942.40291       6995.902524   \n",
              "496      Zimbabwe       1  37.642000    56039.49793      12301.456790   \n",
              "497   Philippines       1  53.943497    68888.77805      10611.606860   \n",
              "498      Botswana       1  59.160509    49811.99062      14013.034510   \n",
              "499        marlal       1  46.731152    61370.67766       9391.341628   \n",
              "\n",
              "       net worth  car purchase amount  \n",
              "0    238961.2505          35321.45877  \n",
              "1    530973.9078          45115.52566  \n",
              "2    638467.1773          42925.70921  \n",
              "3    548599.0524          67422.36313  \n",
              "4    560304.0671          55915.46248  \n",
              "..           ...                  ...  \n",
              "495  541670.1016          48901.44342  \n",
              "496  360419.0988          31491.41457  \n",
              "497  764531.3203          64147.28888  \n",
              "498  337826.6382          45442.15353  \n",
              "499  462946.4924          45107.22566  \n",
              "\n",
              "[500 rows x 9 columns]"
            ],
            "text/html": [
              "\n",
              "  <div id=\"df-554eb46c-1802-4ad6-9b79-6e200bcf33c9\">\n",
              "    <div class=\"colab-df-container\">\n",
              "      <div>\n",
              "<style scoped>\n",
              "    .dataframe tbody tr th:only-of-type {\n",
              "        vertical-align: middle;\n",
              "    }\n",
              "\n",
              "    .dataframe tbody tr th {\n",
              "        vertical-align: top;\n",
              "    }\n",
              "\n",
              "    .dataframe thead th {\n",
              "        text-align: right;\n",
              "    }\n",
              "</style>\n",
              "<table border=\"1\" class=\"dataframe\">\n",
              "  <thead>\n",
              "    <tr style=\"text-align: right;\">\n",
              "      <th></th>\n",
              "      <th>customer name</th>\n",
              "      <th>customer e-mail</th>\n",
              "      <th>country</th>\n",
              "      <th>gender</th>\n",
              "      <th>age</th>\n",
              "      <th>annual Salary</th>\n",
              "      <th>credit card debt</th>\n",
              "      <th>net worth</th>\n",
              "      <th>car purchase amount</th>\n",
              "    </tr>\n",
              "  </thead>\n",
              "  <tbody>\n",
              "    <tr>\n",
              "      <th>0</th>\n",
              "      <td>Martina Avila</td>\n",
              "      <td>cubilia.Curae.Phasellus@quisaccumsanconvallis.edu</td>\n",
              "      <td>Bulgaria</td>\n",
              "      <td>0</td>\n",
              "      <td>41.851720</td>\n",
              "      <td>62812.09301</td>\n",
              "      <td>11609.380910</td>\n",
              "      <td>238961.2505</td>\n",
              "      <td>35321.45877</td>\n",
              "    </tr>\n",
              "    <tr>\n",
              "      <th>1</th>\n",
              "      <td>Harlan Barnes</td>\n",
              "      <td>eu.dolor@diam.co.uk</td>\n",
              "      <td>Belize</td>\n",
              "      <td>0</td>\n",
              "      <td>40.870623</td>\n",
              "      <td>66646.89292</td>\n",
              "      <td>9572.957136</td>\n",
              "      <td>530973.9078</td>\n",
              "      <td>45115.52566</td>\n",
              "    </tr>\n",
              "    <tr>\n",
              "      <th>2</th>\n",
              "      <td>Naomi Rodriquez</td>\n",
              "      <td>vulputate.mauris.sagittis@ametconsectetueradip...</td>\n",
              "      <td>Algeria</td>\n",
              "      <td>1</td>\n",
              "      <td>43.152897</td>\n",
              "      <td>53798.55112</td>\n",
              "      <td>11160.355060</td>\n",
              "      <td>638467.1773</td>\n",
              "      <td>42925.70921</td>\n",
              "    </tr>\n",
              "    <tr>\n",
              "      <th>3</th>\n",
              "      <td>Jade Cunningham</td>\n",
              "      <td>malesuada@dignissim.com</td>\n",
              "      <td>Cook Islands</td>\n",
              "      <td>1</td>\n",
              "      <td>58.271369</td>\n",
              "      <td>79370.03798</td>\n",
              "      <td>14426.164850</td>\n",
              "      <td>548599.0524</td>\n",
              "      <td>67422.36313</td>\n",
              "    </tr>\n",
              "    <tr>\n",
              "      <th>4</th>\n",
              "      <td>Cedric Leach</td>\n",
              "      <td>felis.ullamcorper.viverra@egetmollislectus.net</td>\n",
              "      <td>Brazil</td>\n",
              "      <td>1</td>\n",
              "      <td>57.313749</td>\n",
              "      <td>59729.15130</td>\n",
              "      <td>5358.712177</td>\n",
              "      <td>560304.0671</td>\n",
              "      <td>55915.46248</td>\n",
              "    </tr>\n",
              "    <tr>\n",
              "      <th>...</th>\n",
              "      <td>...</td>\n",
              "      <td>...</td>\n",
              "      <td>...</td>\n",
              "      <td>...</td>\n",
              "      <td>...</td>\n",
              "      <td>...</td>\n",
              "      <td>...</td>\n",
              "      <td>...</td>\n",
              "      <td>...</td>\n",
              "    </tr>\n",
              "    <tr>\n",
              "      <th>495</th>\n",
              "      <td>Walter</td>\n",
              "      <td>ligula@Cumsociis.ca</td>\n",
              "      <td>Nepal</td>\n",
              "      <td>0</td>\n",
              "      <td>41.462515</td>\n",
              "      <td>71942.40291</td>\n",
              "      <td>6995.902524</td>\n",
              "      <td>541670.1016</td>\n",
              "      <td>48901.44342</td>\n",
              "    </tr>\n",
              "    <tr>\n",
              "      <th>496</th>\n",
              "      <td>Vanna</td>\n",
              "      <td>Cum.sociis.natoque@Sedmolestie.edu</td>\n",
              "      <td>Zimbabwe</td>\n",
              "      <td>1</td>\n",
              "      <td>37.642000</td>\n",
              "      <td>56039.49793</td>\n",
              "      <td>12301.456790</td>\n",
              "      <td>360419.0988</td>\n",
              "      <td>31491.41457</td>\n",
              "    </tr>\n",
              "    <tr>\n",
              "      <th>497</th>\n",
              "      <td>Pearl</td>\n",
              "      <td>penatibus.et@massanonante.com</td>\n",
              "      <td>Philippines</td>\n",
              "      <td>1</td>\n",
              "      <td>53.943497</td>\n",
              "      <td>68888.77805</td>\n",
              "      <td>10611.606860</td>\n",
              "      <td>764531.3203</td>\n",
              "      <td>64147.28888</td>\n",
              "    </tr>\n",
              "    <tr>\n",
              "      <th>498</th>\n",
              "      <td>Nell</td>\n",
              "      <td>Quisque.varius@arcuVivamussit.net</td>\n",
              "      <td>Botswana</td>\n",
              "      <td>1</td>\n",
              "      <td>59.160509</td>\n",
              "      <td>49811.99062</td>\n",
              "      <td>14013.034510</td>\n",
              "      <td>337826.6382</td>\n",
              "      <td>45442.15353</td>\n",
              "    </tr>\n",
              "    <tr>\n",
              "      <th>499</th>\n",
              "      <td>Marla</td>\n",
              "      <td>Camaron.marla@hotmail.com</td>\n",
              "      <td>marlal</td>\n",
              "      <td>1</td>\n",
              "      <td>46.731152</td>\n",
              "      <td>61370.67766</td>\n",
              "      <td>9391.341628</td>\n",
              "      <td>462946.4924</td>\n",
              "      <td>45107.22566</td>\n",
              "    </tr>\n",
              "  </tbody>\n",
              "</table>\n",
              "<p>500 rows × 9 columns</p>\n",
              "</div>\n",
              "      <button class=\"colab-df-convert\" onclick=\"convertToInteractive('df-554eb46c-1802-4ad6-9b79-6e200bcf33c9')\"\n",
              "              title=\"Convert this dataframe to an interactive table.\"\n",
              "              style=\"display:none;\">\n",
              "        \n",
              "  <svg xmlns=\"http://www.w3.org/2000/svg\" height=\"24px\"viewBox=\"0 0 24 24\"\n",
              "       width=\"24px\">\n",
              "    <path d=\"M0 0h24v24H0V0z\" fill=\"none\"/>\n",
              "    <path d=\"M18.56 5.44l.94 2.06.94-2.06 2.06-.94-2.06-.94-.94-2.06-.94 2.06-2.06.94zm-11 1L8.5 8.5l.94-2.06 2.06-.94-2.06-.94L8.5 2.5l-.94 2.06-2.06.94zm10 10l.94 2.06.94-2.06 2.06-.94-2.06-.94-.94-2.06-.94 2.06-2.06.94z\"/><path d=\"M17.41 7.96l-1.37-1.37c-.4-.4-.92-.59-1.43-.59-.52 0-1.04.2-1.43.59L10.3 9.45l-7.72 7.72c-.78.78-.78 2.05 0 2.83L4 21.41c.39.39.9.59 1.41.59.51 0 1.02-.2 1.41-.59l7.78-7.78 2.81-2.81c.8-.78.8-2.07 0-2.86zM5.41 20L4 18.59l7.72-7.72 1.47 1.35L5.41 20z\"/>\n",
              "  </svg>\n",
              "      </button>\n",
              "      \n",
              "  <style>\n",
              "    .colab-df-container {\n",
              "      display:flex;\n",
              "      flex-wrap:wrap;\n",
              "      gap: 12px;\n",
              "    }\n",
              "\n",
              "    .colab-df-convert {\n",
              "      background-color: #E8F0FE;\n",
              "      border: none;\n",
              "      border-radius: 50%;\n",
              "      cursor: pointer;\n",
              "      display: none;\n",
              "      fill: #1967D2;\n",
              "      height: 32px;\n",
              "      padding: 0 0 0 0;\n",
              "      width: 32px;\n",
              "    }\n",
              "\n",
              "    .colab-df-convert:hover {\n",
              "      background-color: #E2EBFA;\n",
              "      box-shadow: 0px 1px 2px rgba(60, 64, 67, 0.3), 0px 1px 3px 1px rgba(60, 64, 67, 0.15);\n",
              "      fill: #174EA6;\n",
              "    }\n",
              "\n",
              "    [theme=dark] .colab-df-convert {\n",
              "      background-color: #3B4455;\n",
              "      fill: #D2E3FC;\n",
              "    }\n",
              "\n",
              "    [theme=dark] .colab-df-convert:hover {\n",
              "      background-color: #434B5C;\n",
              "      box-shadow: 0px 1px 3px 1px rgba(0, 0, 0, 0.15);\n",
              "      filter: drop-shadow(0px 1px 2px rgba(0, 0, 0, 0.3));\n",
              "      fill: #FFFFFF;\n",
              "    }\n",
              "  </style>\n",
              "\n",
              "      <script>\n",
              "        const buttonEl =\n",
              "          document.querySelector('#df-554eb46c-1802-4ad6-9b79-6e200bcf33c9 button.colab-df-convert');\n",
              "        buttonEl.style.display =\n",
              "          google.colab.kernel.accessAllowed ? 'block' : 'none';\n",
              "\n",
              "        async function convertToInteractive(key) {\n",
              "          const element = document.querySelector('#df-554eb46c-1802-4ad6-9b79-6e200bcf33c9');\n",
              "          const dataTable =\n",
              "            await google.colab.kernel.invokeFunction('convertToInteractive',\n",
              "                                                     [key], {});\n",
              "          if (!dataTable) return;\n",
              "\n",
              "          const docLinkHtml = 'Like what you see? Visit the ' +\n",
              "            '<a target=\"_blank\" href=https://colab.research.google.com/notebooks/data_table.ipynb>data table notebook</a>'\n",
              "            + ' to learn more about interactive tables.';\n",
              "          element.innerHTML = '';\n",
              "          dataTable['output_type'] = 'display_data';\n",
              "          await google.colab.output.renderOutput(dataTable, element);\n",
              "          const docLink = document.createElement('div');\n",
              "          docLink.innerHTML = docLinkHtml;\n",
              "          element.appendChild(docLink);\n",
              "        }\n",
              "      </script>\n",
              "    </div>\n",
              "  </div>\n",
              "  "
            ]
          },
          "metadata": {},
          "execution_count": 3
        }
      ]
    },
    {
      "cell_type": "code",
      "source": [
        "data.head()"
      ],
      "metadata": {
        "colab": {
          "base_uri": "https://localhost:8080/",
          "height": 250
        },
        "id": "wvxO7gBhKXuP",
        "outputId": "5ae69ae5-7b5f-4778-89a2-300b10713970"
      },
      "execution_count": null,
      "outputs": [
        {
          "output_type": "execute_result",
          "data": {
            "text/plain": [
              "     customer name                                    customer e-mail  \\\n",
              "0    Martina Avila  cubilia.Curae.Phasellus@quisaccumsanconvallis.edu   \n",
              "1    Harlan Barnes                                eu.dolor@diam.co.uk   \n",
              "2  Naomi Rodriquez  vulputate.mauris.sagittis@ametconsectetueradip...   \n",
              "3  Jade Cunningham                            malesuada@dignissim.com   \n",
              "4     Cedric Leach     felis.ullamcorper.viverra@egetmollislectus.net   \n",
              "\n",
              "        country  gender        age  annual Salary  credit card debt  \\\n",
              "0      Bulgaria       0  41.851720    62812.09301      11609.380910   \n",
              "1        Belize       0  40.870623    66646.89292       9572.957136   \n",
              "2       Algeria       1  43.152897    53798.55112      11160.355060   \n",
              "3  Cook Islands       1  58.271369    79370.03798      14426.164850   \n",
              "4        Brazil       1  57.313749    59729.15130       5358.712177   \n",
              "\n",
              "     net worth  car purchase amount  \n",
              "0  238961.2505          35321.45877  \n",
              "1  530973.9078          45115.52566  \n",
              "2  638467.1773          42925.70921  \n",
              "3  548599.0524          67422.36313  \n",
              "4  560304.0671          55915.46248  "
            ],
            "text/html": [
              "\n",
              "  <div id=\"df-a86b66a8-c66a-4289-8e17-4383386f71b3\">\n",
              "    <div class=\"colab-df-container\">\n",
              "      <div>\n",
              "<style scoped>\n",
              "    .dataframe tbody tr th:only-of-type {\n",
              "        vertical-align: middle;\n",
              "    }\n",
              "\n",
              "    .dataframe tbody tr th {\n",
              "        vertical-align: top;\n",
              "    }\n",
              "\n",
              "    .dataframe thead th {\n",
              "        text-align: right;\n",
              "    }\n",
              "</style>\n",
              "<table border=\"1\" class=\"dataframe\">\n",
              "  <thead>\n",
              "    <tr style=\"text-align: right;\">\n",
              "      <th></th>\n",
              "      <th>customer name</th>\n",
              "      <th>customer e-mail</th>\n",
              "      <th>country</th>\n",
              "      <th>gender</th>\n",
              "      <th>age</th>\n",
              "      <th>annual Salary</th>\n",
              "      <th>credit card debt</th>\n",
              "      <th>net worth</th>\n",
              "      <th>car purchase amount</th>\n",
              "    </tr>\n",
              "  </thead>\n",
              "  <tbody>\n",
              "    <tr>\n",
              "      <th>0</th>\n",
              "      <td>Martina Avila</td>\n",
              "      <td>cubilia.Curae.Phasellus@quisaccumsanconvallis.edu</td>\n",
              "      <td>Bulgaria</td>\n",
              "      <td>0</td>\n",
              "      <td>41.851720</td>\n",
              "      <td>62812.09301</td>\n",
              "      <td>11609.380910</td>\n",
              "      <td>238961.2505</td>\n",
              "      <td>35321.45877</td>\n",
              "    </tr>\n",
              "    <tr>\n",
              "      <th>1</th>\n",
              "      <td>Harlan Barnes</td>\n",
              "      <td>eu.dolor@diam.co.uk</td>\n",
              "      <td>Belize</td>\n",
              "      <td>0</td>\n",
              "      <td>40.870623</td>\n",
              "      <td>66646.89292</td>\n",
              "      <td>9572.957136</td>\n",
              "      <td>530973.9078</td>\n",
              "      <td>45115.52566</td>\n",
              "    </tr>\n",
              "    <tr>\n",
              "      <th>2</th>\n",
              "      <td>Naomi Rodriquez</td>\n",
              "      <td>vulputate.mauris.sagittis@ametconsectetueradip...</td>\n",
              "      <td>Algeria</td>\n",
              "      <td>1</td>\n",
              "      <td>43.152897</td>\n",
              "      <td>53798.55112</td>\n",
              "      <td>11160.355060</td>\n",
              "      <td>638467.1773</td>\n",
              "      <td>42925.70921</td>\n",
              "    </tr>\n",
              "    <tr>\n",
              "      <th>3</th>\n",
              "      <td>Jade Cunningham</td>\n",
              "      <td>malesuada@dignissim.com</td>\n",
              "      <td>Cook Islands</td>\n",
              "      <td>1</td>\n",
              "      <td>58.271369</td>\n",
              "      <td>79370.03798</td>\n",
              "      <td>14426.164850</td>\n",
              "      <td>548599.0524</td>\n",
              "      <td>67422.36313</td>\n",
              "    </tr>\n",
              "    <tr>\n",
              "      <th>4</th>\n",
              "      <td>Cedric Leach</td>\n",
              "      <td>felis.ullamcorper.viverra@egetmollislectus.net</td>\n",
              "      <td>Brazil</td>\n",
              "      <td>1</td>\n",
              "      <td>57.313749</td>\n",
              "      <td>59729.15130</td>\n",
              "      <td>5358.712177</td>\n",
              "      <td>560304.0671</td>\n",
              "      <td>55915.46248</td>\n",
              "    </tr>\n",
              "  </tbody>\n",
              "</table>\n",
              "</div>\n",
              "      <button class=\"colab-df-convert\" onclick=\"convertToInteractive('df-a86b66a8-c66a-4289-8e17-4383386f71b3')\"\n",
              "              title=\"Convert this dataframe to an interactive table.\"\n",
              "              style=\"display:none;\">\n",
              "        \n",
              "  <svg xmlns=\"http://www.w3.org/2000/svg\" height=\"24px\"viewBox=\"0 0 24 24\"\n",
              "       width=\"24px\">\n",
              "    <path d=\"M0 0h24v24H0V0z\" fill=\"none\"/>\n",
              "    <path d=\"M18.56 5.44l.94 2.06.94-2.06 2.06-.94-2.06-.94-.94-2.06-.94 2.06-2.06.94zm-11 1L8.5 8.5l.94-2.06 2.06-.94-2.06-.94L8.5 2.5l-.94 2.06-2.06.94zm10 10l.94 2.06.94-2.06 2.06-.94-2.06-.94-.94-2.06-.94 2.06-2.06.94z\"/><path d=\"M17.41 7.96l-1.37-1.37c-.4-.4-.92-.59-1.43-.59-.52 0-1.04.2-1.43.59L10.3 9.45l-7.72 7.72c-.78.78-.78 2.05 0 2.83L4 21.41c.39.39.9.59 1.41.59.51 0 1.02-.2 1.41-.59l7.78-7.78 2.81-2.81c.8-.78.8-2.07 0-2.86zM5.41 20L4 18.59l7.72-7.72 1.47 1.35L5.41 20z\"/>\n",
              "  </svg>\n",
              "      </button>\n",
              "      \n",
              "  <style>\n",
              "    .colab-df-container {\n",
              "      display:flex;\n",
              "      flex-wrap:wrap;\n",
              "      gap: 12px;\n",
              "    }\n",
              "\n",
              "    .colab-df-convert {\n",
              "      background-color: #E8F0FE;\n",
              "      border: none;\n",
              "      border-radius: 50%;\n",
              "      cursor: pointer;\n",
              "      display: none;\n",
              "      fill: #1967D2;\n",
              "      height: 32px;\n",
              "      padding: 0 0 0 0;\n",
              "      width: 32px;\n",
              "    }\n",
              "\n",
              "    .colab-df-convert:hover {\n",
              "      background-color: #E2EBFA;\n",
              "      box-shadow: 0px 1px 2px rgba(60, 64, 67, 0.3), 0px 1px 3px 1px rgba(60, 64, 67, 0.15);\n",
              "      fill: #174EA6;\n",
              "    }\n",
              "\n",
              "    [theme=dark] .colab-df-convert {\n",
              "      background-color: #3B4455;\n",
              "      fill: #D2E3FC;\n",
              "    }\n",
              "\n",
              "    [theme=dark] .colab-df-convert:hover {\n",
              "      background-color: #434B5C;\n",
              "      box-shadow: 0px 1px 3px 1px rgba(0, 0, 0, 0.15);\n",
              "      filter: drop-shadow(0px 1px 2px rgba(0, 0, 0, 0.3));\n",
              "      fill: #FFFFFF;\n",
              "    }\n",
              "  </style>\n",
              "\n",
              "      <script>\n",
              "        const buttonEl =\n",
              "          document.querySelector('#df-a86b66a8-c66a-4289-8e17-4383386f71b3 button.colab-df-convert');\n",
              "        buttonEl.style.display =\n",
              "          google.colab.kernel.accessAllowed ? 'block' : 'none';\n",
              "\n",
              "        async function convertToInteractive(key) {\n",
              "          const element = document.querySelector('#df-a86b66a8-c66a-4289-8e17-4383386f71b3');\n",
              "          const dataTable =\n",
              "            await google.colab.kernel.invokeFunction('convertToInteractive',\n",
              "                                                     [key], {});\n",
              "          if (!dataTable) return;\n",
              "\n",
              "          const docLinkHtml = 'Like what you see? Visit the ' +\n",
              "            '<a target=\"_blank\" href=https://colab.research.google.com/notebooks/data_table.ipynb>data table notebook</a>'\n",
              "            + ' to learn more about interactive tables.';\n",
              "          element.innerHTML = '';\n",
              "          dataTable['output_type'] = 'display_data';\n",
              "          await google.colab.output.renderOutput(dataTable, element);\n",
              "          const docLink = document.createElement('div');\n",
              "          docLink.innerHTML = docLinkHtml;\n",
              "          element.appendChild(docLink);\n",
              "        }\n",
              "      </script>\n",
              "    </div>\n",
              "  </div>\n",
              "  "
            ]
          },
          "metadata": {},
          "execution_count": 4
        }
      ]
    },
    {
      "cell_type": "code",
      "source": [
        "data.columns"
      ],
      "metadata": {
        "colab": {
          "base_uri": "https://localhost:8080/"
        },
        "id": "0tx_twMwzvG9",
        "outputId": "67d9356a-2049-42bd-b3ca-93f74c424873"
      },
      "execution_count": null,
      "outputs": [
        {
          "output_type": "execute_result",
          "data": {
            "text/plain": [
              "Index(['customer name', 'customer e-mail', 'country', 'gender', 'age',\n",
              "       'annual Salary', 'credit card debt', 'net worth',\n",
              "       'car purchase amount'],\n",
              "      dtype='object')"
            ]
          },
          "metadata": {},
          "execution_count": 5
        }
      ]
    },
    {
      "cell_type": "code",
      "source": [
        "data.isna().sum()"
      ],
      "metadata": {
        "colab": {
          "base_uri": "https://localhost:8080/"
        },
        "id": "aOH3Cv-ezvEH",
        "outputId": "7c48e967-c2e3-4cd5-c24c-d29e0e2c052e"
      },
      "execution_count": null,
      "outputs": [
        {
          "output_type": "execute_result",
          "data": {
            "text/plain": [
              "customer name          0\n",
              "customer e-mail        0\n",
              "country                0\n",
              "gender                 0\n",
              "age                    0\n",
              "annual Salary          0\n",
              "credit card debt       0\n",
              "net worth              0\n",
              "car purchase amount    0\n",
              "dtype: int64"
            ]
          },
          "metadata": {},
          "execution_count": 6
        }
      ]
    },
    {
      "cell_type": "code",
      "source": [
        "data.info()"
      ],
      "metadata": {
        "colab": {
          "base_uri": "https://localhost:8080/"
        },
        "id": "BZrGzfoIzvBI",
        "outputId": "f517efda-873f-4177-da86-5d4272b94d16"
      },
      "execution_count": null,
      "outputs": [
        {
          "output_type": "stream",
          "name": "stdout",
          "text": [
            "<class 'pandas.core.frame.DataFrame'>\n",
            "RangeIndex: 500 entries, 0 to 499\n",
            "Data columns (total 9 columns):\n",
            " #   Column               Non-Null Count  Dtype  \n",
            "---  ------               --------------  -----  \n",
            " 0   customer name        500 non-null    object \n",
            " 1   customer e-mail      500 non-null    object \n",
            " 2   country              500 non-null    object \n",
            " 3   gender               500 non-null    int64  \n",
            " 4   age                  500 non-null    float64\n",
            " 5   annual Salary        500 non-null    float64\n",
            " 6   credit card debt     500 non-null    float64\n",
            " 7   net worth            500 non-null    float64\n",
            " 8   car purchase amount  500 non-null    float64\n",
            "dtypes: float64(5), int64(1), object(3)\n",
            "memory usage: 35.3+ KB\n"
          ]
        }
      ]
    },
    {
      "cell_type": "code",
      "source": [
        "data.drop(['customer name', 'customer e-mail'],axis=1,inplace=True)\n",
        "data.head()"
      ],
      "metadata": {
        "colab": {
          "base_uri": "https://localhost:8080/",
          "height": 206
        },
        "id": "l7WH0hauzu4K",
        "outputId": "24179976-ed86-43fc-b21e-ed48ddcd6f2a"
      },
      "execution_count": null,
      "outputs": [
        {
          "output_type": "execute_result",
          "data": {
            "text/plain": [
              "        country  gender        age  annual Salary  credit card debt  \\\n",
              "0      Bulgaria       0  41.851720    62812.09301      11609.380910   \n",
              "1        Belize       0  40.870623    66646.89292       9572.957136   \n",
              "2       Algeria       1  43.152897    53798.55112      11160.355060   \n",
              "3  Cook Islands       1  58.271369    79370.03798      14426.164850   \n",
              "4        Brazil       1  57.313749    59729.15130       5358.712177   \n",
              "\n",
              "     net worth  car purchase amount  \n",
              "0  238961.2505          35321.45877  \n",
              "1  530973.9078          45115.52566  \n",
              "2  638467.1773          42925.70921  \n",
              "3  548599.0524          67422.36313  \n",
              "4  560304.0671          55915.46248  "
            ],
            "text/html": [
              "\n",
              "  <div id=\"df-257ece52-9f85-42ee-8fee-a9f39c32ce63\">\n",
              "    <div class=\"colab-df-container\">\n",
              "      <div>\n",
              "<style scoped>\n",
              "    .dataframe tbody tr th:only-of-type {\n",
              "        vertical-align: middle;\n",
              "    }\n",
              "\n",
              "    .dataframe tbody tr th {\n",
              "        vertical-align: top;\n",
              "    }\n",
              "\n",
              "    .dataframe thead th {\n",
              "        text-align: right;\n",
              "    }\n",
              "</style>\n",
              "<table border=\"1\" class=\"dataframe\">\n",
              "  <thead>\n",
              "    <tr style=\"text-align: right;\">\n",
              "      <th></th>\n",
              "      <th>country</th>\n",
              "      <th>gender</th>\n",
              "      <th>age</th>\n",
              "      <th>annual Salary</th>\n",
              "      <th>credit card debt</th>\n",
              "      <th>net worth</th>\n",
              "      <th>car purchase amount</th>\n",
              "    </tr>\n",
              "  </thead>\n",
              "  <tbody>\n",
              "    <tr>\n",
              "      <th>0</th>\n",
              "      <td>Bulgaria</td>\n",
              "      <td>0</td>\n",
              "      <td>41.851720</td>\n",
              "      <td>62812.09301</td>\n",
              "      <td>11609.380910</td>\n",
              "      <td>238961.2505</td>\n",
              "      <td>35321.45877</td>\n",
              "    </tr>\n",
              "    <tr>\n",
              "      <th>1</th>\n",
              "      <td>Belize</td>\n",
              "      <td>0</td>\n",
              "      <td>40.870623</td>\n",
              "      <td>66646.89292</td>\n",
              "      <td>9572.957136</td>\n",
              "      <td>530973.9078</td>\n",
              "      <td>45115.52566</td>\n",
              "    </tr>\n",
              "    <tr>\n",
              "      <th>2</th>\n",
              "      <td>Algeria</td>\n",
              "      <td>1</td>\n",
              "      <td>43.152897</td>\n",
              "      <td>53798.55112</td>\n",
              "      <td>11160.355060</td>\n",
              "      <td>638467.1773</td>\n",
              "      <td>42925.70921</td>\n",
              "    </tr>\n",
              "    <tr>\n",
              "      <th>3</th>\n",
              "      <td>Cook Islands</td>\n",
              "      <td>1</td>\n",
              "      <td>58.271369</td>\n",
              "      <td>79370.03798</td>\n",
              "      <td>14426.164850</td>\n",
              "      <td>548599.0524</td>\n",
              "      <td>67422.36313</td>\n",
              "    </tr>\n",
              "    <tr>\n",
              "      <th>4</th>\n",
              "      <td>Brazil</td>\n",
              "      <td>1</td>\n",
              "      <td>57.313749</td>\n",
              "      <td>59729.15130</td>\n",
              "      <td>5358.712177</td>\n",
              "      <td>560304.0671</td>\n",
              "      <td>55915.46248</td>\n",
              "    </tr>\n",
              "  </tbody>\n",
              "</table>\n",
              "</div>\n",
              "      <button class=\"colab-df-convert\" onclick=\"convertToInteractive('df-257ece52-9f85-42ee-8fee-a9f39c32ce63')\"\n",
              "              title=\"Convert this dataframe to an interactive table.\"\n",
              "              style=\"display:none;\">\n",
              "        \n",
              "  <svg xmlns=\"http://www.w3.org/2000/svg\" height=\"24px\"viewBox=\"0 0 24 24\"\n",
              "       width=\"24px\">\n",
              "    <path d=\"M0 0h24v24H0V0z\" fill=\"none\"/>\n",
              "    <path d=\"M18.56 5.44l.94 2.06.94-2.06 2.06-.94-2.06-.94-.94-2.06-.94 2.06-2.06.94zm-11 1L8.5 8.5l.94-2.06 2.06-.94-2.06-.94L8.5 2.5l-.94 2.06-2.06.94zm10 10l.94 2.06.94-2.06 2.06-.94-2.06-.94-.94-2.06-.94 2.06-2.06.94z\"/><path d=\"M17.41 7.96l-1.37-1.37c-.4-.4-.92-.59-1.43-.59-.52 0-1.04.2-1.43.59L10.3 9.45l-7.72 7.72c-.78.78-.78 2.05 0 2.83L4 21.41c.39.39.9.59 1.41.59.51 0 1.02-.2 1.41-.59l7.78-7.78 2.81-2.81c.8-.78.8-2.07 0-2.86zM5.41 20L4 18.59l7.72-7.72 1.47 1.35L5.41 20z\"/>\n",
              "  </svg>\n",
              "      </button>\n",
              "      \n",
              "  <style>\n",
              "    .colab-df-container {\n",
              "      display:flex;\n",
              "      flex-wrap:wrap;\n",
              "      gap: 12px;\n",
              "    }\n",
              "\n",
              "    .colab-df-convert {\n",
              "      background-color: #E8F0FE;\n",
              "      border: none;\n",
              "      border-radius: 50%;\n",
              "      cursor: pointer;\n",
              "      display: none;\n",
              "      fill: #1967D2;\n",
              "      height: 32px;\n",
              "      padding: 0 0 0 0;\n",
              "      width: 32px;\n",
              "    }\n",
              "\n",
              "    .colab-df-convert:hover {\n",
              "      background-color: #E2EBFA;\n",
              "      box-shadow: 0px 1px 2px rgba(60, 64, 67, 0.3), 0px 1px 3px 1px rgba(60, 64, 67, 0.15);\n",
              "      fill: #174EA6;\n",
              "    }\n",
              "\n",
              "    [theme=dark] .colab-df-convert {\n",
              "      background-color: #3B4455;\n",
              "      fill: #D2E3FC;\n",
              "    }\n",
              "\n",
              "    [theme=dark] .colab-df-convert:hover {\n",
              "      background-color: #434B5C;\n",
              "      box-shadow: 0px 1px 3px 1px rgba(0, 0, 0, 0.15);\n",
              "      filter: drop-shadow(0px 1px 2px rgba(0, 0, 0, 0.3));\n",
              "      fill: #FFFFFF;\n",
              "    }\n",
              "  </style>\n",
              "\n",
              "      <script>\n",
              "        const buttonEl =\n",
              "          document.querySelector('#df-257ece52-9f85-42ee-8fee-a9f39c32ce63 button.colab-df-convert');\n",
              "        buttonEl.style.display =\n",
              "          google.colab.kernel.accessAllowed ? 'block' : 'none';\n",
              "\n",
              "        async function convertToInteractive(key) {\n",
              "          const element = document.querySelector('#df-257ece52-9f85-42ee-8fee-a9f39c32ce63');\n",
              "          const dataTable =\n",
              "            await google.colab.kernel.invokeFunction('convertToInteractive',\n",
              "                                                     [key], {});\n",
              "          if (!dataTable) return;\n",
              "\n",
              "          const docLinkHtml = 'Like what you see? Visit the ' +\n",
              "            '<a target=\"_blank\" href=https://colab.research.google.com/notebooks/data_table.ipynb>data table notebook</a>'\n",
              "            + ' to learn more about interactive tables.';\n",
              "          element.innerHTML = '';\n",
              "          dataTable['output_type'] = 'display_data';\n",
              "          await google.colab.output.renderOutput(dataTable, element);\n",
              "          const docLink = document.createElement('div');\n",
              "          docLink.innerHTML = docLinkHtml;\n",
              "          element.appendChild(docLink);\n",
              "        }\n",
              "      </script>\n",
              "    </div>\n",
              "  </div>\n",
              "  "
            ]
          },
          "metadata": {},
          "execution_count": 8
        }
      ]
    },
    {
      "cell_type": "code",
      "source": [
        "data[\"country\"].value_counts()"
      ],
      "metadata": {
        "colab": {
          "base_uri": "https://localhost:8080/"
        },
        "id": "fkTb9S2NPBg9",
        "outputId": "973b4692-e895-4bbb-c84a-d16f2e71d637"
      },
      "execution_count": null,
      "outputs": [
        {
          "output_type": "execute_result",
          "data": {
            "text/plain": [
              "Israel                 6\n",
              "Mauritania             6\n",
              "Bolivia                6\n",
              "Greenland              5\n",
              "Saint Barthélemy       5\n",
              "                      ..\n",
              "El Salvador            1\n",
              "Denmark                1\n",
              "Oman                   1\n",
              "Trinidad and Tobago    1\n",
              "marlal                 1\n",
              "Name: country, Length: 211, dtype: int64"
            ]
          },
          "metadata": {},
          "execution_count": 9
        }
      ]
    },
    {
      "cell_type": "code",
      "source": [
        "data1=pd.get_dummies(prefix=\"Country\",data=data,columns=['country'])\n",
        "data1.head()"
      ],
      "metadata": {
        "colab": {
          "base_uri": "https://localhost:8080/",
          "height": 334
        },
        "id": "fqY0lHnkzu1C",
        "outputId": "ed232548-e232-4ff0-c9f1-ef2ffdb543b8"
      },
      "execution_count": null,
      "outputs": [
        {
          "output_type": "execute_result",
          "data": {
            "text/plain": [
              "   gender        age  annual Salary  credit card debt    net worth  \\\n",
              "0       0  41.851720    62812.09301      11609.380910  238961.2505   \n",
              "1       0  40.870623    66646.89292       9572.957136  530973.9078   \n",
              "2       1  43.152897    53798.55112      11160.355060  638467.1773   \n",
              "3       1  58.271369    79370.03798      14426.164850  548599.0524   \n",
              "4       1  57.313749    59729.15130       5358.712177  560304.0671   \n",
              "\n",
              "   car purchase amount  Country_Afghanistan  Country_Algeria  \\\n",
              "0          35321.45877                    0                0   \n",
              "1          45115.52566                    0                0   \n",
              "2          42925.70921                    0                1   \n",
              "3          67422.36313                    0                0   \n",
              "4          55915.46248                    0                0   \n",
              "\n",
              "   Country_American Samoa  Country_Andorra  ...  Country_Venezuela  \\\n",
              "0                       0                0  ...                  0   \n",
              "1                       0                0  ...                  0   \n",
              "2                       0                0  ...                  0   \n",
              "3                       0                0  ...                  0   \n",
              "4                       0                0  ...                  0   \n",
              "\n",
              "   Country_Viet Nam  Country_Virgin Islands, British  \\\n",
              "0                 0                                0   \n",
              "1                 0                                0   \n",
              "2                 0                                0   \n",
              "3                 0                                0   \n",
              "4                 0                                0   \n",
              "\n",
              "   Country_Virgin Islands, United States  Country_Wallis and Futuna  \\\n",
              "0                                      0                          0   \n",
              "1                                      0                          0   \n",
              "2                                      0                          0   \n",
              "3                                      0                          0   \n",
              "4                                      0                          0   \n",
              "\n",
              "   Country_Western Sahara  Country_Yemen  Country_Zimbabwe  Country_marlal  \\\n",
              "0                       0              0                 0               0   \n",
              "1                       0              0                 0               0   \n",
              "2                       0              0                 0               0   \n",
              "3                       0              0                 0               0   \n",
              "4                       0              0                 0               0   \n",
              "\n",
              "   Country_Åland Islands  \n",
              "0                      0  \n",
              "1                      0  \n",
              "2                      0  \n",
              "3                      0  \n",
              "4                      0  \n",
              "\n",
              "[5 rows x 217 columns]"
            ],
            "text/html": [
              "\n",
              "  <div id=\"df-43a24aea-6132-4236-8345-c75ec836c82d\">\n",
              "    <div class=\"colab-df-container\">\n",
              "      <div>\n",
              "<style scoped>\n",
              "    .dataframe tbody tr th:only-of-type {\n",
              "        vertical-align: middle;\n",
              "    }\n",
              "\n",
              "    .dataframe tbody tr th {\n",
              "        vertical-align: top;\n",
              "    }\n",
              "\n",
              "    .dataframe thead th {\n",
              "        text-align: right;\n",
              "    }\n",
              "</style>\n",
              "<table border=\"1\" class=\"dataframe\">\n",
              "  <thead>\n",
              "    <tr style=\"text-align: right;\">\n",
              "      <th></th>\n",
              "      <th>gender</th>\n",
              "      <th>age</th>\n",
              "      <th>annual Salary</th>\n",
              "      <th>credit card debt</th>\n",
              "      <th>net worth</th>\n",
              "      <th>car purchase amount</th>\n",
              "      <th>Country_Afghanistan</th>\n",
              "      <th>Country_Algeria</th>\n",
              "      <th>Country_American Samoa</th>\n",
              "      <th>Country_Andorra</th>\n",
              "      <th>...</th>\n",
              "      <th>Country_Venezuela</th>\n",
              "      <th>Country_Viet Nam</th>\n",
              "      <th>Country_Virgin Islands, British</th>\n",
              "      <th>Country_Virgin Islands, United States</th>\n",
              "      <th>Country_Wallis and Futuna</th>\n",
              "      <th>Country_Western Sahara</th>\n",
              "      <th>Country_Yemen</th>\n",
              "      <th>Country_Zimbabwe</th>\n",
              "      <th>Country_marlal</th>\n",
              "      <th>Country_Åland Islands</th>\n",
              "    </tr>\n",
              "  </thead>\n",
              "  <tbody>\n",
              "    <tr>\n",
              "      <th>0</th>\n",
              "      <td>0</td>\n",
              "      <td>41.851720</td>\n",
              "      <td>62812.09301</td>\n",
              "      <td>11609.380910</td>\n",
              "      <td>238961.2505</td>\n",
              "      <td>35321.45877</td>\n",
              "      <td>0</td>\n",
              "      <td>0</td>\n",
              "      <td>0</td>\n",
              "      <td>0</td>\n",
              "      <td>...</td>\n",
              "      <td>0</td>\n",
              "      <td>0</td>\n",
              "      <td>0</td>\n",
              "      <td>0</td>\n",
              "      <td>0</td>\n",
              "      <td>0</td>\n",
              "      <td>0</td>\n",
              "      <td>0</td>\n",
              "      <td>0</td>\n",
              "      <td>0</td>\n",
              "    </tr>\n",
              "    <tr>\n",
              "      <th>1</th>\n",
              "      <td>0</td>\n",
              "      <td>40.870623</td>\n",
              "      <td>66646.89292</td>\n",
              "      <td>9572.957136</td>\n",
              "      <td>530973.9078</td>\n",
              "      <td>45115.52566</td>\n",
              "      <td>0</td>\n",
              "      <td>0</td>\n",
              "      <td>0</td>\n",
              "      <td>0</td>\n",
              "      <td>...</td>\n",
              "      <td>0</td>\n",
              "      <td>0</td>\n",
              "      <td>0</td>\n",
              "      <td>0</td>\n",
              "      <td>0</td>\n",
              "      <td>0</td>\n",
              "      <td>0</td>\n",
              "      <td>0</td>\n",
              "      <td>0</td>\n",
              "      <td>0</td>\n",
              "    </tr>\n",
              "    <tr>\n",
              "      <th>2</th>\n",
              "      <td>1</td>\n",
              "      <td>43.152897</td>\n",
              "      <td>53798.55112</td>\n",
              "      <td>11160.355060</td>\n",
              "      <td>638467.1773</td>\n",
              "      <td>42925.70921</td>\n",
              "      <td>0</td>\n",
              "      <td>1</td>\n",
              "      <td>0</td>\n",
              "      <td>0</td>\n",
              "      <td>...</td>\n",
              "      <td>0</td>\n",
              "      <td>0</td>\n",
              "      <td>0</td>\n",
              "      <td>0</td>\n",
              "      <td>0</td>\n",
              "      <td>0</td>\n",
              "      <td>0</td>\n",
              "      <td>0</td>\n",
              "      <td>0</td>\n",
              "      <td>0</td>\n",
              "    </tr>\n",
              "    <tr>\n",
              "      <th>3</th>\n",
              "      <td>1</td>\n",
              "      <td>58.271369</td>\n",
              "      <td>79370.03798</td>\n",
              "      <td>14426.164850</td>\n",
              "      <td>548599.0524</td>\n",
              "      <td>67422.36313</td>\n",
              "      <td>0</td>\n",
              "      <td>0</td>\n",
              "      <td>0</td>\n",
              "      <td>0</td>\n",
              "      <td>...</td>\n",
              "      <td>0</td>\n",
              "      <td>0</td>\n",
              "      <td>0</td>\n",
              "      <td>0</td>\n",
              "      <td>0</td>\n",
              "      <td>0</td>\n",
              "      <td>0</td>\n",
              "      <td>0</td>\n",
              "      <td>0</td>\n",
              "      <td>0</td>\n",
              "    </tr>\n",
              "    <tr>\n",
              "      <th>4</th>\n",
              "      <td>1</td>\n",
              "      <td>57.313749</td>\n",
              "      <td>59729.15130</td>\n",
              "      <td>5358.712177</td>\n",
              "      <td>560304.0671</td>\n",
              "      <td>55915.46248</td>\n",
              "      <td>0</td>\n",
              "      <td>0</td>\n",
              "      <td>0</td>\n",
              "      <td>0</td>\n",
              "      <td>...</td>\n",
              "      <td>0</td>\n",
              "      <td>0</td>\n",
              "      <td>0</td>\n",
              "      <td>0</td>\n",
              "      <td>0</td>\n",
              "      <td>0</td>\n",
              "      <td>0</td>\n",
              "      <td>0</td>\n",
              "      <td>0</td>\n",
              "      <td>0</td>\n",
              "    </tr>\n",
              "  </tbody>\n",
              "</table>\n",
              "<p>5 rows × 217 columns</p>\n",
              "</div>\n",
              "      <button class=\"colab-df-convert\" onclick=\"convertToInteractive('df-43a24aea-6132-4236-8345-c75ec836c82d')\"\n",
              "              title=\"Convert this dataframe to an interactive table.\"\n",
              "              style=\"display:none;\">\n",
              "        \n",
              "  <svg xmlns=\"http://www.w3.org/2000/svg\" height=\"24px\"viewBox=\"0 0 24 24\"\n",
              "       width=\"24px\">\n",
              "    <path d=\"M0 0h24v24H0V0z\" fill=\"none\"/>\n",
              "    <path d=\"M18.56 5.44l.94 2.06.94-2.06 2.06-.94-2.06-.94-.94-2.06-.94 2.06-2.06.94zm-11 1L8.5 8.5l.94-2.06 2.06-.94-2.06-.94L8.5 2.5l-.94 2.06-2.06.94zm10 10l.94 2.06.94-2.06 2.06-.94-2.06-.94-.94-2.06-.94 2.06-2.06.94z\"/><path d=\"M17.41 7.96l-1.37-1.37c-.4-.4-.92-.59-1.43-.59-.52 0-1.04.2-1.43.59L10.3 9.45l-7.72 7.72c-.78.78-.78 2.05 0 2.83L4 21.41c.39.39.9.59 1.41.59.51 0 1.02-.2 1.41-.59l7.78-7.78 2.81-2.81c.8-.78.8-2.07 0-2.86zM5.41 20L4 18.59l7.72-7.72 1.47 1.35L5.41 20z\"/>\n",
              "  </svg>\n",
              "      </button>\n",
              "      \n",
              "  <style>\n",
              "    .colab-df-container {\n",
              "      display:flex;\n",
              "      flex-wrap:wrap;\n",
              "      gap: 12px;\n",
              "    }\n",
              "\n",
              "    .colab-df-convert {\n",
              "      background-color: #E8F0FE;\n",
              "      border: none;\n",
              "      border-radius: 50%;\n",
              "      cursor: pointer;\n",
              "      display: none;\n",
              "      fill: #1967D2;\n",
              "      height: 32px;\n",
              "      padding: 0 0 0 0;\n",
              "      width: 32px;\n",
              "    }\n",
              "\n",
              "    .colab-df-convert:hover {\n",
              "      background-color: #E2EBFA;\n",
              "      box-shadow: 0px 1px 2px rgba(60, 64, 67, 0.3), 0px 1px 3px 1px rgba(60, 64, 67, 0.15);\n",
              "      fill: #174EA6;\n",
              "    }\n",
              "\n",
              "    [theme=dark] .colab-df-convert {\n",
              "      background-color: #3B4455;\n",
              "      fill: #D2E3FC;\n",
              "    }\n",
              "\n",
              "    [theme=dark] .colab-df-convert:hover {\n",
              "      background-color: #434B5C;\n",
              "      box-shadow: 0px 1px 3px 1px rgba(0, 0, 0, 0.15);\n",
              "      filter: drop-shadow(0px 1px 2px rgba(0, 0, 0, 0.3));\n",
              "      fill: #FFFFFF;\n",
              "    }\n",
              "  </style>\n",
              "\n",
              "      <script>\n",
              "        const buttonEl =\n",
              "          document.querySelector('#df-43a24aea-6132-4236-8345-c75ec836c82d button.colab-df-convert');\n",
              "        buttonEl.style.display =\n",
              "          google.colab.kernel.accessAllowed ? 'block' : 'none';\n",
              "\n",
              "        async function convertToInteractive(key) {\n",
              "          const element = document.querySelector('#df-43a24aea-6132-4236-8345-c75ec836c82d');\n",
              "          const dataTable =\n",
              "            await google.colab.kernel.invokeFunction('convertToInteractive',\n",
              "                                                     [key], {});\n",
              "          if (!dataTable) return;\n",
              "\n",
              "          const docLinkHtml = 'Like what you see? Visit the ' +\n",
              "            '<a target=\"_blank\" href=https://colab.research.google.com/notebooks/data_table.ipynb>data table notebook</a>'\n",
              "            + ' to learn more about interactive tables.';\n",
              "          element.innerHTML = '';\n",
              "          dataTable['output_type'] = 'display_data';\n",
              "          await google.colab.output.renderOutput(dataTable, element);\n",
              "          const docLink = document.createElement('div');\n",
              "          docLink.innerHTML = docLinkHtml;\n",
              "          element.appendChild(docLink);\n",
              "        }\n",
              "      </script>\n",
              "    </div>\n",
              "  </div>\n",
              "  "
            ]
          },
          "metadata": {},
          "execution_count": 10
        }
      ]
    },
    {
      "cell_type": "code",
      "source": [
        "x = data1.drop(\"car purchase amount\",axis=1)\n",
        "y = data1['car purchase amount']"
      ],
      "metadata": {
        "id": "VT_opeimzux9"
      },
      "execution_count": null,
      "outputs": []
    },
    {
      "cell_type": "code",
      "source": [
        "from sklearn.model_selection import train_test_split"
      ],
      "metadata": {
        "id": "6tbnL8AmRhlC"
      },
      "execution_count": null,
      "outputs": []
    },
    {
      "cell_type": "code",
      "source": [
        "x_train, x_test, y_train, y_test = train_test_split(x,y,test_size=0.2, random_state=132)"
      ],
      "metadata": {
        "id": "JVVGlyb0zuvG"
      },
      "execution_count": null,
      "outputs": []
    },
    {
      "cell_type": "code",
      "source": [
        "from sklearn.preprocessing import StandardScaler"
      ],
      "metadata": {
        "id": "fFa2zoGRUIFX"
      },
      "execution_count": null,
      "outputs": []
    },
    {
      "cell_type": "code",
      "source": [
        "sc = StandardScaler()\n",
        "X_train = sc.fit_transform(x_train)\n",
        "X_test= sc.fit_transform(x_test)"
      ],
      "metadata": {
        "id": "r_xs3yaqUKkC"
      },
      "execution_count": null,
      "outputs": []
    },
    {
      "cell_type": "code",
      "source": [
        "from tensorflow.keras.models import Sequential\n",
        "from tensorflow.keras.layers import Dense"
      ],
      "metadata": {
        "id": "s8bH-1jOzur_"
      },
      "execution_count": null,
      "outputs": []
    },
    {
      "cell_type": "code",
      "source": [
        "import tensorflow as tf\n",
        "print(tf.__version__)"
      ],
      "metadata": {
        "colab": {
          "base_uri": "https://localhost:8080/"
        },
        "id": "sI2bI82ozupE",
        "outputId": "b2d58938-3789-4c1b-fc0b-d5d56a9954cc"
      },
      "execution_count": null,
      "outputs": [
        {
          "output_type": "stream",
          "name": "stdout",
          "text": [
            "2.9.2\n"
          ]
        }
      ]
    },
    {
      "cell_type": "markdown",
      "source": [
        "**Specify the architecture**\n",
        "\n",
        "input - 4, hidden layer1- 9 , output -1"
      ],
      "metadata": {
        "id": "dp9VePrw49u6"
      }
    },
    {
      "cell_type": "code",
      "source": [
        "model = Sequential()"
      ],
      "metadata": {
        "id": "NuyXlPrkzul5"
      },
      "execution_count": null,
      "outputs": []
    },
    {
      "cell_type": "code",
      "source": [
        "model.add(Dense(9, input_shape = (4,),activation = \"relu\"))    ### input and hidden layer1\n",
        "model.add(Dense(1))    ### output layer"
      ],
      "metadata": {
        "id": "B-0_gdDnzui_"
      },
      "execution_count": null,
      "outputs": []
    },
    {
      "cell_type": "code",
      "source": [
        "model.summary()"
      ],
      "metadata": {
        "colab": {
          "base_uri": "https://localhost:8080/"
        },
        "id": "vNvt1fYVzugJ",
        "outputId": "33dcf79b-942c-4909-ed62-0b2de6e5f6b0"
      },
      "execution_count": null,
      "outputs": [
        {
          "output_type": "stream",
          "name": "stdout",
          "text": [
            "Model: \"sequential\"\n",
            "_________________________________________________________________\n",
            " Layer (type)                Output Shape              Param #   \n",
            "=================================================================\n",
            " dense_3 (Dense)             (None, 9)                 1953      \n",
            "                                                                 \n",
            " dense_4 (Dense)             (None, 1)                 10        \n",
            "                                                                 \n",
            " dense_5 (Dense)             (None, 9)                 18        \n",
            "                                                                 \n",
            " dense_6 (Dense)             (None, 1)                 10        \n",
            "                                                                 \n",
            "=================================================================\n",
            "Total params: 1,991\n",
            "Trainable params: 1,991\n",
            "Non-trainable params: 0\n",
            "_________________________________________________________________\n"
          ]
        }
      ]
    },
    {
      "cell_type": "markdown",
      "source": [
        "**compile**\n",
        "\n",
        "optimizer and loss function\n",
        "\n",
        "optimizer -- sgd ,, loss function - binary cross entropy"
      ],
      "metadata": {
        "id": "CtxGKHve42st"
      }
    },
    {
      "cell_type": "code",
      "source": [
        "model.compile(optimizer=\"sgd\", loss = \"binary_crossentropy\", metrics =['accuracy'])"
      ],
      "metadata": {
        "id": "4A4AkvUiS_sK"
      },
      "execution_count": null,
      "outputs": []
    },
    {
      "cell_type": "code",
      "source": [
        "model.fit(x_train,y_train,epochs=25,batch_size=10,verbose=1)"
      ],
      "metadata": {
        "colab": {
          "base_uri": "https://localhost:8080/"
        },
        "id": "A5Ak3gjBS_pn",
        "outputId": "fa244e75-a7ca-49b0-d02b-a6573541e1c4"
      },
      "execution_count": null,
      "outputs": [
        {
          "output_type": "stream",
          "name": "stdout",
          "text": [
            "Epoch 1/25\n",
            "40/40 [==============================] - 1s 2ms/step - loss: -674579.6250 - accuracy: 0.0000e+00\n",
            "Epoch 2/25\n",
            "40/40 [==============================] - 0s 2ms/step - loss: -674579.5000 - accuracy: 0.0000e+00\n",
            "Epoch 3/25\n",
            "40/40 [==============================] - 0s 2ms/step - loss: -674579.6875 - accuracy: 0.0000e+00\n",
            "Epoch 4/25\n",
            "40/40 [==============================] - 0s 2ms/step - loss: -674579.5000 - accuracy: 0.0000e+00\n",
            "Epoch 5/25\n",
            "40/40 [==============================] - 0s 2ms/step - loss: -674579.6875 - accuracy: 0.0000e+00\n",
            "Epoch 6/25\n",
            "40/40 [==============================] - 0s 2ms/step - loss: -674579.6250 - accuracy: 0.0000e+00\n",
            "Epoch 7/25\n",
            "40/40 [==============================] - 0s 2ms/step - loss: -674579.6875 - accuracy: 0.0000e+00\n",
            "Epoch 8/25\n",
            "40/40 [==============================] - 0s 2ms/step - loss: -674579.6875 - accuracy: 0.0000e+00\n",
            "Epoch 9/25\n",
            "40/40 [==============================] - 0s 2ms/step - loss: -674579.6875 - accuracy: 0.0000e+00\n",
            "Epoch 10/25\n",
            "40/40 [==============================] - 0s 2ms/step - loss: -674579.6250 - accuracy: 0.0000e+00\n",
            "Epoch 11/25\n",
            "40/40 [==============================] - 0s 2ms/step - loss: -674579.6250 - accuracy: 0.0000e+00\n",
            "Epoch 12/25\n",
            "40/40 [==============================] - 0s 2ms/step - loss: -674579.6875 - accuracy: 0.0000e+00\n",
            "Epoch 13/25\n",
            "40/40 [==============================] - 0s 2ms/step - loss: -674579.6250 - accuracy: 0.0000e+00\n",
            "Epoch 14/25\n",
            "40/40 [==============================] - 0s 2ms/step - loss: -674579.5000 - accuracy: 0.0000e+00\n",
            "Epoch 15/25\n",
            "40/40 [==============================] - 0s 2ms/step - loss: -674579.6250 - accuracy: 0.0000e+00\n",
            "Epoch 16/25\n",
            "40/40 [==============================] - 0s 2ms/step - loss: -674579.7500 - accuracy: 0.0000e+00\n",
            "Epoch 17/25\n",
            "40/40 [==============================] - 0s 2ms/step - loss: -674579.5000 - accuracy: 0.0000e+00\n",
            "Epoch 18/25\n",
            "40/40 [==============================] - 0s 2ms/step - loss: -674579.6250 - accuracy: 0.0000e+00\n",
            "Epoch 19/25\n",
            "40/40 [==============================] - 0s 2ms/step - loss: -674579.6875 - accuracy: 0.0000e+00\n",
            "Epoch 20/25\n",
            "40/40 [==============================] - 0s 2ms/step - loss: -674579.5000 - accuracy: 0.0000e+00\n",
            "Epoch 21/25\n",
            "40/40 [==============================] - 0s 2ms/step - loss: -674579.5000 - accuracy: 0.0000e+00\n",
            "Epoch 22/25\n",
            "40/40 [==============================] - 0s 2ms/step - loss: -674579.5000 - accuracy: 0.0000e+00\n",
            "Epoch 23/25\n",
            "40/40 [==============================] - 0s 2ms/step - loss: -674579.6250 - accuracy: 0.0000e+00\n",
            "Epoch 24/25\n",
            "40/40 [==============================] - 0s 2ms/step - loss: -674579.6875 - accuracy: 0.0000e+00\n",
            "Epoch 25/25\n",
            "40/40 [==============================] - 0s 2ms/step - loss: -674579.6250 - accuracy: 0.0000e+00\n"
          ]
        },
        {
          "output_type": "execute_result",
          "data": {
            "text/plain": [
              "<keras.callbacks.History at 0x7fa8b4747e80>"
            ]
          },
          "metadata": {},
          "execution_count": 31
        }
      ]
    },
    {
      "cell_type": "markdown",
      "source": [
        "training and updating weights using the backpropogation"
      ],
      "metadata": {
        "id": "k6YlY4c15V8U"
      }
    },
    {
      "cell_type": "code",
      "source": [
        "model.fit(x_train, y_train, epochs = 5)"
      ],
      "metadata": {
        "id": "YBodmYsKS_m9",
        "colab": {
          "base_uri": "https://localhost:8080/"
        },
        "outputId": "074686da-9f88-4f98-8d2b-23196fe7c681"
      },
      "execution_count": null,
      "outputs": [
        {
          "output_type": "stream",
          "name": "stdout",
          "text": [
            "Epoch 1/5\n",
            "13/13 [==============================] - 0s 3ms/step - loss: -674579.6250 - accuracy: 0.0000e+00\n",
            "Epoch 2/5\n",
            "13/13 [==============================] - 0s 3ms/step - loss: -674579.6875 - accuracy: 0.0000e+00\n",
            "Epoch 3/5\n",
            "13/13 [==============================] - 0s 3ms/step - loss: -674579.6250 - accuracy: 0.0000e+00\n",
            "Epoch 4/5\n",
            "13/13 [==============================] - 0s 2ms/step - loss: -674579.6250 - accuracy: 0.0000e+00\n",
            "Epoch 5/5\n",
            "13/13 [==============================] - 0s 2ms/step - loss: -674579.6250 - accuracy: 0.0000e+00\n"
          ]
        },
        {
          "output_type": "execute_result",
          "data": {
            "text/plain": [
              "<keras.callbacks.History at 0x7fa8b7f13df0>"
            ]
          },
          "metadata": {},
          "execution_count": 32
        }
      ]
    },
    {
      "cell_type": "code",
      "source": [
        "model.evaluate(x_test, y_test)"
      ],
      "metadata": {
        "id": "pXADahxCS_kV",
        "colab": {
          "base_uri": "https://localhost:8080/"
        },
        "outputId": "33856c3b-e1f1-48ad-a7e3-1a8f4bec1d82"
      },
      "execution_count": null,
      "outputs": [
        {
          "output_type": "stream",
          "name": "stdout",
          "text": [
            "4/4 [==============================] - 0s 4ms/step - loss: -672434.0625 - accuracy: 0.0000e+00\n"
          ]
        },
        {
          "output_type": "execute_result",
          "data": {
            "text/plain": [
              "[-672434.0625, 0.0]"
            ]
          },
          "metadata": {},
          "execution_count": 42
        }
      ]
    },
    {
      "cell_type": "markdown",
      "source": [
        "model 2"
      ],
      "metadata": {
        "id": "LzjYdCuT6GXT"
      }
    },
    {
      "cell_type": "markdown",
      "source": [
        "input - 4, hidden 1- 8 , hidden2 - 8 , output - 1\n",
        "\n"
      ],
      "metadata": {
        "id": "P-rqiVDt6RVi"
      }
    },
    {
      "cell_type": "code",
      "source": [
        "model2 = Sequential()\n",
        "model2.add(Dense(8, input_shape=(4,), activation = \"relu\"))\n",
        "model2.add(Dense(8, activation = \"relu\"))\n",
        "model2.add(Dense(1))\n",
        "model2.summary()"
      ],
      "metadata": {
        "id": "iUMQS07MS_hy",
        "colab": {
          "base_uri": "https://localhost:8080/"
        },
        "outputId": "6220d0ad-ce61-4224-9d25-c230597a80b0"
      },
      "execution_count": null,
      "outputs": [
        {
          "output_type": "stream",
          "name": "stdout",
          "text": [
            "Model: \"sequential_2\"\n",
            "_________________________________________________________________\n",
            " Layer (type)                Output Shape              Param #   \n",
            "=================================================================\n",
            " dense_7 (Dense)             (None, 8)                 40        \n",
            "                                                                 \n",
            " dense_8 (Dense)             (None, 8)                 72        \n",
            "                                                                 \n",
            " dense_9 (Dense)             (None, 1)                 9         \n",
            "                                                                 \n",
            "=================================================================\n",
            "Total params: 121\n",
            "Trainable params: 121\n",
            "Non-trainable params: 0\n",
            "_________________________________________________________________\n"
          ]
        }
      ]
    },
    {
      "cell_type": "code",
      "source": [
        "model2.compile(optimizer = \"adam\", loss= \"binary_crossentropy\", metrics = [\"accuracy\"])"
      ],
      "metadata": {
        "id": "J86nKX5gS_e2"
      },
      "execution_count": null,
      "outputs": []
    },
    {
      "cell_type": "code",
      "source": [],
      "metadata": {
        "id": "dZMfSaWnS_Y8"
      },
      "execution_count": null,
      "outputs": []
    },
    {
      "cell_type": "code",
      "source": [],
      "metadata": {
        "id": "BER53Oc4S_WS"
      },
      "execution_count": null,
      "outputs": []
    },
    {
      "cell_type": "code",
      "source": [],
      "metadata": {
        "id": "uTJFsN_zS_Tc"
      },
      "execution_count": null,
      "outputs": []
    },
    {
      "cell_type": "code",
      "source": [],
      "metadata": {
        "id": "avRLFSdFS_Qi"
      },
      "execution_count": null,
      "outputs": []
    }
  ]
}