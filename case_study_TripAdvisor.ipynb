{
  "nbformat": 4,
  "nbformat_minor": 0,
  "metadata": {
    "colab": {
      "provenance": []
    },
    "kernelspec": {
      "name": "python3",
      "display_name": "Python 3"
    },
    "language_info": {
      "name": "python"
    }
  },
  "cells": [
    {
      "cell_type": "code",
      "execution_count": null,
      "metadata": {
        "id": "FN2BHJlOfL-2"
      },
      "outputs": [],
      "source": [
        "import pandas as pd\n",
        "import numpy as np"
      ]
    },
    {
      "cell_type": "code",
      "source": [
        "data = pd.read_csv(\"/content/TripAdvisor_RestauarantRecommendation (1).csv\")"
      ],
      "metadata": {
        "id": "u5EgmBhHfNda"
      },
      "execution_count": null,
      "outputs": []
    },
    {
      "cell_type": "code",
      "source": [
        "data.head()"
      ],
      "metadata": {
        "colab": {
          "base_uri": "https://localhost:8080/",
          "height": 721
        },
        "id": "gy2ow7HjfNaN",
        "outputId": "bfafad49-1bdc-4c4a-ae71-4563ef21eb39"
      },
      "execution_count": null,
      "outputs": [
        {
          "output_type": "execute_result",
          "data": {
            "text/plain": [
              "                            Name       Street Address  \\\n",
              "0  Betty Lou's Seafood and Grill     318 Columbus Ave   \n",
              "1              Coach House Diner        55 State Rt 4   \n",
              "2               Table Talk Diner  2521 South Rd Ste C   \n",
              "3                    Sixty Vines     3701 Dallas Pkwy   \n",
              "4                   The Clam Bar    3914 Brewerton Rd   \n",
              "\n",
              "                       Location                                          Type  \\\n",
              "0  San Francisco, CA 94133-3908   Seafood, Vegetarian Friendly, Vegan Options   \n",
              "1     Hackensack, NJ 07601-6337          Diner, American, Vegetarian Friendly   \n",
              "2   Poughkeepsie, NY 12601-5476          American, Diner, Vegetarian Friendly   \n",
              "3          Plano, TX 75093-7777       American, Wine Bar, Vegetarian Friendly   \n",
              "4            Syracuse, NY 13212                        American, Bar, Seafood   \n",
              "\n",
              "            Reviews No of Reviews  \\\n",
              "0  4.5 of 5 bubbles   243 reviews   \n",
              "1    4 of 5 bubbles    84 reviews   \n",
              "2    4 of 5 bubbles   256 reviews   \n",
              "3  4.5 of 5 bubbles   235 reviews   \n",
              "4    4 of 5 bubbles   285 reviews   \n",
              "\n",
              "                                            Comments   Contact Number  \\\n",
              "0                                                NaN  +1 415-757-0569   \n",
              "1  Both times we were there very late, after 11 P...  +1 201-488-4999   \n",
              "2  Waitress was very friendly but a little pricey...  +1 845-849-2839   \n",
              "3  Not sure why I went there for the second time....  +1 469-620-8463   \n",
              "4  Doesn't look like much from the outside but wa...  +1 315-458-1662   \n",
              "\n",
              "                                    Trip_advisor Url  \\\n",
              "0  https://www.tripadvisor.com//Restaurant_Review...   \n",
              "1  https://www.tripadvisor.com//Restaurant_Review...   \n",
              "2  https://www.tripadvisor.com//Restaurant_Review...   \n",
              "3  https://www.tripadvisor.com//Restaurant_Review...   \n",
              "4  https://www.tripadvisor.com//Restaurant_Review...   \n",
              "\n",
              "                                        Menu Price_Range  \n",
              "0               Check The Website for a Menu    $$ - $$$  \n",
              "1               Check The Website for a Menu    $$ - $$$  \n",
              "2  http://tabletalkdiner.com/menu/breakfast/    $$ - $$$  \n",
              "3      https://sixtyvines.com/menu/plano-tx/    $$ - $$$  \n",
              "4               Check The Website for a Menu    $$ - $$$  "
            ],
            "text/html": [
              "\n",
              "  <div id=\"df-f224fd68-347b-49f7-9521-0a22c147a806\">\n",
              "    <div class=\"colab-df-container\">\n",
              "      <div>\n",
              "<style scoped>\n",
              "    .dataframe tbody tr th:only-of-type {\n",
              "        vertical-align: middle;\n",
              "    }\n",
              "\n",
              "    .dataframe tbody tr th {\n",
              "        vertical-align: top;\n",
              "    }\n",
              "\n",
              "    .dataframe thead th {\n",
              "        text-align: right;\n",
              "    }\n",
              "</style>\n",
              "<table border=\"1\" class=\"dataframe\">\n",
              "  <thead>\n",
              "    <tr style=\"text-align: right;\">\n",
              "      <th></th>\n",
              "      <th>Name</th>\n",
              "      <th>Street Address</th>\n",
              "      <th>Location</th>\n",
              "      <th>Type</th>\n",
              "      <th>Reviews</th>\n",
              "      <th>No of Reviews</th>\n",
              "      <th>Comments</th>\n",
              "      <th>Contact Number</th>\n",
              "      <th>Trip_advisor Url</th>\n",
              "      <th>Menu</th>\n",
              "      <th>Price_Range</th>\n",
              "    </tr>\n",
              "  </thead>\n",
              "  <tbody>\n",
              "    <tr>\n",
              "      <th>0</th>\n",
              "      <td>Betty Lou's Seafood and Grill</td>\n",
              "      <td>318 Columbus Ave</td>\n",
              "      <td>San Francisco, CA 94133-3908</td>\n",
              "      <td>Seafood, Vegetarian Friendly, Vegan Options</td>\n",
              "      <td>4.5 of 5 bubbles</td>\n",
              "      <td>243 reviews</td>\n",
              "      <td>NaN</td>\n",
              "      <td>+1 415-757-0569</td>\n",
              "      <td>https://www.tripadvisor.com//Restaurant_Review...</td>\n",
              "      <td>Check The Website for a Menu</td>\n",
              "      <td>$$ - $$$</td>\n",
              "    </tr>\n",
              "    <tr>\n",
              "      <th>1</th>\n",
              "      <td>Coach House Diner</td>\n",
              "      <td>55 State Rt 4</td>\n",
              "      <td>Hackensack, NJ 07601-6337</td>\n",
              "      <td>Diner, American, Vegetarian Friendly</td>\n",
              "      <td>4 of 5 bubbles</td>\n",
              "      <td>84 reviews</td>\n",
              "      <td>Both times we were there very late, after 11 P...</td>\n",
              "      <td>+1 201-488-4999</td>\n",
              "      <td>https://www.tripadvisor.com//Restaurant_Review...</td>\n",
              "      <td>Check The Website for a Menu</td>\n",
              "      <td>$$ - $$$</td>\n",
              "    </tr>\n",
              "    <tr>\n",
              "      <th>2</th>\n",
              "      <td>Table Talk Diner</td>\n",
              "      <td>2521 South Rd Ste C</td>\n",
              "      <td>Poughkeepsie, NY 12601-5476</td>\n",
              "      <td>American, Diner, Vegetarian Friendly</td>\n",
              "      <td>4 of 5 bubbles</td>\n",
              "      <td>256 reviews</td>\n",
              "      <td>Waitress was very friendly but a little pricey...</td>\n",
              "      <td>+1 845-849-2839</td>\n",
              "      <td>https://www.tripadvisor.com//Restaurant_Review...</td>\n",
              "      <td>http://tabletalkdiner.com/menu/breakfast/</td>\n",
              "      <td>$$ - $$$</td>\n",
              "    </tr>\n",
              "    <tr>\n",
              "      <th>3</th>\n",
              "      <td>Sixty Vines</td>\n",
              "      <td>3701 Dallas Pkwy</td>\n",
              "      <td>Plano, TX 75093-7777</td>\n",
              "      <td>American, Wine Bar, Vegetarian Friendly</td>\n",
              "      <td>4.5 of 5 bubbles</td>\n",
              "      <td>235 reviews</td>\n",
              "      <td>Not sure why I went there for the second time....</td>\n",
              "      <td>+1 469-620-8463</td>\n",
              "      <td>https://www.tripadvisor.com//Restaurant_Review...</td>\n",
              "      <td>https://sixtyvines.com/menu/plano-tx/</td>\n",
              "      <td>$$ - $$$</td>\n",
              "    </tr>\n",
              "    <tr>\n",
              "      <th>4</th>\n",
              "      <td>The Clam Bar</td>\n",
              "      <td>3914 Brewerton Rd</td>\n",
              "      <td>Syracuse, NY 13212</td>\n",
              "      <td>American, Bar, Seafood</td>\n",
              "      <td>4 of 5 bubbles</td>\n",
              "      <td>285 reviews</td>\n",
              "      <td>Doesn't look like much from the outside but wa...</td>\n",
              "      <td>+1 315-458-1662</td>\n",
              "      <td>https://www.tripadvisor.com//Restaurant_Review...</td>\n",
              "      <td>Check The Website for a Menu</td>\n",
              "      <td>$$ - $$$</td>\n",
              "    </tr>\n",
              "  </tbody>\n",
              "</table>\n",
              "</div>\n",
              "      <button class=\"colab-df-convert\" onclick=\"convertToInteractive('df-f224fd68-347b-49f7-9521-0a22c147a806')\"\n",
              "              title=\"Convert this dataframe to an interactive table.\"\n",
              "              style=\"display:none;\">\n",
              "        \n",
              "  <svg xmlns=\"http://www.w3.org/2000/svg\" height=\"24px\"viewBox=\"0 0 24 24\"\n",
              "       width=\"24px\">\n",
              "    <path d=\"M0 0h24v24H0V0z\" fill=\"none\"/>\n",
              "    <path d=\"M18.56 5.44l.94 2.06.94-2.06 2.06-.94-2.06-.94-.94-2.06-.94 2.06-2.06.94zm-11 1L8.5 8.5l.94-2.06 2.06-.94-2.06-.94L8.5 2.5l-.94 2.06-2.06.94zm10 10l.94 2.06.94-2.06 2.06-.94-2.06-.94-.94-2.06-.94 2.06-2.06.94z\"/><path d=\"M17.41 7.96l-1.37-1.37c-.4-.4-.92-.59-1.43-.59-.52 0-1.04.2-1.43.59L10.3 9.45l-7.72 7.72c-.78.78-.78 2.05 0 2.83L4 21.41c.39.39.9.59 1.41.59.51 0 1.02-.2 1.41-.59l7.78-7.78 2.81-2.81c.8-.78.8-2.07 0-2.86zM5.41 20L4 18.59l7.72-7.72 1.47 1.35L5.41 20z\"/>\n",
              "  </svg>\n",
              "      </button>\n",
              "      \n",
              "  <style>\n",
              "    .colab-df-container {\n",
              "      display:flex;\n",
              "      flex-wrap:wrap;\n",
              "      gap: 12px;\n",
              "    }\n",
              "\n",
              "    .colab-df-convert {\n",
              "      background-color: #E8F0FE;\n",
              "      border: none;\n",
              "      border-radius: 50%;\n",
              "      cursor: pointer;\n",
              "      display: none;\n",
              "      fill: #1967D2;\n",
              "      height: 32px;\n",
              "      padding: 0 0 0 0;\n",
              "      width: 32px;\n",
              "    }\n",
              "\n",
              "    .colab-df-convert:hover {\n",
              "      background-color: #E2EBFA;\n",
              "      box-shadow: 0px 1px 2px rgba(60, 64, 67, 0.3), 0px 1px 3px 1px rgba(60, 64, 67, 0.15);\n",
              "      fill: #174EA6;\n",
              "    }\n",
              "\n",
              "    [theme=dark] .colab-df-convert {\n",
              "      background-color: #3B4455;\n",
              "      fill: #D2E3FC;\n",
              "    }\n",
              "\n",
              "    [theme=dark] .colab-df-convert:hover {\n",
              "      background-color: #434B5C;\n",
              "      box-shadow: 0px 1px 3px 1px rgba(0, 0, 0, 0.15);\n",
              "      filter: drop-shadow(0px 1px 2px rgba(0, 0, 0, 0.3));\n",
              "      fill: #FFFFFF;\n",
              "    }\n",
              "  </style>\n",
              "\n",
              "      <script>\n",
              "        const buttonEl =\n",
              "          document.querySelector('#df-f224fd68-347b-49f7-9521-0a22c147a806 button.colab-df-convert');\n",
              "        buttonEl.style.display =\n",
              "          google.colab.kernel.accessAllowed ? 'block' : 'none';\n",
              "\n",
              "        async function convertToInteractive(key) {\n",
              "          const element = document.querySelector('#df-f224fd68-347b-49f7-9521-0a22c147a806');\n",
              "          const dataTable =\n",
              "            await google.colab.kernel.invokeFunction('convertToInteractive',\n",
              "                                                     [key], {});\n",
              "          if (!dataTable) return;\n",
              "\n",
              "          const docLinkHtml = 'Like what you see? Visit the ' +\n",
              "            '<a target=\"_blank\" href=https://colab.research.google.com/notebooks/data_table.ipynb>data table notebook</a>'\n",
              "            + ' to learn more about interactive tables.';\n",
              "          element.innerHTML = '';\n",
              "          dataTable['output_type'] = 'display_data';\n",
              "          await google.colab.output.renderOutput(dataTable, element);\n",
              "          const docLink = document.createElement('div');\n",
              "          docLink.innerHTML = docLinkHtml;\n",
              "          element.appendChild(docLink);\n",
              "        }\n",
              "      </script>\n",
              "    </div>\n",
              "  </div>\n",
              "  "
            ]
          },
          "metadata": {},
          "execution_count": 3
        }
      ]
    },
    {
      "cell_type": "code",
      "source": [
        "data.shape"
      ],
      "metadata": {
        "colab": {
          "base_uri": "https://localhost:8080/"
        },
        "id": "eswWaPwsfNXT",
        "outputId": "fc1a104f-ca36-4d27-e72c-a9accc7e560f"
      },
      "execution_count": null,
      "outputs": [
        {
          "output_type": "execute_result",
          "data": {
            "text/plain": [
              "(3062, 11)"
            ]
          },
          "metadata": {},
          "execution_count": 4
        }
      ]
    },
    {
      "cell_type": "code",
      "source": [
        "data.columns"
      ],
      "metadata": {
        "colab": {
          "base_uri": "https://localhost:8080/"
        },
        "id": "mdoSmQhkfNUO",
        "outputId": "816a221b-d5ef-404f-ff32-d9a4c752e666"
      },
      "execution_count": null,
      "outputs": [
        {
          "output_type": "execute_result",
          "data": {
            "text/plain": [
              "Index(['Name', 'Street Address', 'Location', 'Type', 'Reviews',\n",
              "       'No of Reviews', 'Comments', 'Contact Number', 'Trip_advisor Url',\n",
              "       'Menu', 'Price_Range'],\n",
              "      dtype='object')"
            ]
          },
          "metadata": {},
          "execution_count": 5
        }
      ]
    },
    {
      "cell_type": "code",
      "source": [
        "data[\"Comments\"]"
      ],
      "metadata": {
        "colab": {
          "base_uri": "https://localhost:8080/"
        },
        "id": "zcGaWctCMpcf",
        "outputId": "1a557526-09f4-4cd1-d57b-c516fc9c736c"
      },
      "execution_count": null,
      "outputs": [
        {
          "output_type": "execute_result",
          "data": {
            "text/plain": [
              "0                                                     NaN\n",
              "1       Both times we were there very late, after 11 P...\n",
              "2       Waitress was very friendly but a little pricey...\n",
              "3       Not sure why I went there for the second time....\n",
              "4       Doesn't look like much from the outside but wa...\n",
              "                              ...                        \n",
              "3057    We had to wait a few minutes to get it but it ...\n",
              "3058    Came here to see Andrea Gibson perform, we wer...\n",
              "3059    We come to Brio once a month. They are good fo...\n",
              "3060    Stopped in yesterday for Breakfast. When in Je...\n",
              "3061    First time for dinner. 2 couples. Delicious mu...\n",
              "Name: Comments, Length: 3062, dtype: object"
            ]
          },
          "metadata": {},
          "execution_count": 6
        }
      ]
    },
    {
      "cell_type": "code",
      "source": [
        "data[\"Comments\"].nunique()"
      ],
      "metadata": {
        "colab": {
          "base_uri": "https://localhost:8080/"
        },
        "id": "YXoBWTX7iR9n",
        "outputId": "44a15cf5-50d0-4d21-a189-3064da205031"
      },
      "execution_count": null,
      "outputs": [
        {
          "output_type": "execute_result",
          "data": {
            "text/plain": [
              "2291"
            ]
          },
          "metadata": {},
          "execution_count": 7
        }
      ]
    },
    {
      "cell_type": "code",
      "source": [
        "data[\"Comments\"][6]"
      ],
      "metadata": {
        "colab": {
          "base_uri": "https://localhost:8080/",
          "height": 35
        },
        "id": "ausmvLV4Pz3D",
        "outputId": "3cb817a6-44d7-409e-a16f-c55b32210bb5"
      },
      "execution_count": null,
      "outputs": [
        {
          "output_type": "execute_result",
          "data": {
            "text/plain": [
              "'This is an easy any time place to have dinner!  From week night to a special occasion.  The food is reasonably priced and always delicious!'"
            ],
            "application/vnd.google.colaboratory.intrinsic+json": {
              "type": "string"
            }
          },
          "metadata": {},
          "execution_count": 8
        }
      ]
    },
    {
      "cell_type": "code",
      "source": [
        "data['Comments'].isna().sum()"
      ],
      "metadata": {
        "colab": {
          "base_uri": "https://localhost:8080/"
        },
        "id": "Frj0VpchFFBW",
        "outputId": "4a2cc490-4041-4f3e-b434-0beb60354136"
      },
      "execution_count": null,
      "outputs": [
        {
          "output_type": "execute_result",
          "data": {
            "text/plain": [
              "615"
            ]
          },
          "metadata": {},
          "execution_count": 9
        }
      ]
    },
    {
      "cell_type": "code",
      "source": [
        "data['Name'].nunique()"
      ],
      "metadata": {
        "colab": {
          "base_uri": "https://localhost:8080/"
        },
        "id": "kpjyao0vfNRk",
        "outputId": "4fa7fdb6-b410-4b45-a8e5-4f51fe267c5e"
      },
      "execution_count": null,
      "outputs": [
        {
          "output_type": "execute_result",
          "data": {
            "text/plain": [
              "2641"
            ]
          },
          "metadata": {},
          "execution_count": 10
        }
      ]
    },
    {
      "cell_type": "code",
      "source": [
        "data[\"Name\"].isna().sum()"
      ],
      "metadata": {
        "colab": {
          "base_uri": "https://localhost:8080/"
        },
        "id": "hTKjAswwGIPl",
        "outputId": "acebc921-fa4d-48db-8c41-8110684a2db2"
      },
      "execution_count": null,
      "outputs": [
        {
          "output_type": "execute_result",
          "data": {
            "text/plain": [
              "0"
            ]
          },
          "metadata": {},
          "execution_count": 11
        }
      ]
    },
    {
      "cell_type": "code",
      "source": [
        "data['Location'].nunique()"
      ],
      "metadata": {
        "colab": {
          "base_uri": "https://localhost:8080/"
        },
        "id": "739ZFp3AfNOf",
        "outputId": "8fbbe7d0-35da-4634-c770-4fdd8dd79d72"
      },
      "execution_count": null,
      "outputs": [
        {
          "output_type": "execute_result",
          "data": {
            "text/plain": [
              "2653"
            ]
          },
          "metadata": {},
          "execution_count": 12
        }
      ]
    },
    {
      "cell_type": "code",
      "source": [
        "data['Type'][10]"
      ],
      "metadata": {
        "colab": {
          "base_uri": "https://localhost:8080/",
          "height": 35
        },
        "id": "E4OR0PXIfNLX",
        "outputId": "330685d3-3460-4a71-93ae-e381281f8503"
      },
      "execution_count": null,
      "outputs": [
        {
          "output_type": "execute_result",
          "data": {
            "text/plain": [
              "' Italian, Vegetarian Friendly, Gluten Free Options'"
            ],
            "application/vnd.google.colaboratory.intrinsic+json": {
              "type": "string"
            }
          },
          "metadata": {},
          "execution_count": 13
        }
      ]
    },
    {
      "cell_type": "code",
      "source": [
        "data[\"Comments\"] = data['Comments'].fillna(\"\")"
      ],
      "metadata": {
        "id": "6KTBJ4a_FRy7"
      },
      "execution_count": null,
      "outputs": []
    },
    {
      "cell_type": "code",
      "source": [
        "from sklearn.feature_extraction.text import TfidfVectorizer"
      ],
      "metadata": {
        "id": "bdWfvo1kFals"
      },
      "execution_count": null,
      "outputs": []
    },
    {
      "cell_type": "code",
      "source": [
        "tfidf = TfidfVectorizer(stop_words=\"english\",max_features = 10000)"
      ],
      "metadata": {
        "id": "IjTrni2AFajX"
      },
      "execution_count": null,
      "outputs": []
    },
    {
      "cell_type": "code",
      "source": [
        "tfidf_matrix = tfidf.fit_transform(data['Comments'])"
      ],
      "metadata": {
        "id": "IpbWJlUSFagH"
      },
      "execution_count": null,
      "outputs": []
    },
    {
      "cell_type": "code",
      "source": [
        "tfidf_matrix.shape"
      ],
      "metadata": {
        "colab": {
          "base_uri": "https://localhost:8080/"
        },
        "id": "OLpvb6pcFadf",
        "outputId": "ff3b5732-fe50-4461-f545-79ff17df732e"
      },
      "execution_count": null,
      "outputs": [
        {
          "output_type": "execute_result",
          "data": {
            "text/plain": [
              "(3062, 6245)"
            ]
          },
          "metadata": {},
          "execution_count": 18
        }
      ]
    },
    {
      "cell_type": "code",
      "source": [
        "from sklearn.metrics.pairwise import linear_kernel"
      ],
      "metadata": {
        "id": "D7ul9u3WFaa9"
      },
      "execution_count": null,
      "outputs": []
    },
    {
      "cell_type": "code",
      "source": [
        "cosine_sim = linear_kernel(tfidf_matrix, tfidf_matrix)"
      ],
      "metadata": {
        "id": "yOgIf2PlFaYC"
      },
      "execution_count": null,
      "outputs": []
    },
    {
      "cell_type": "code",
      "source": [
        "indices = pd.Series(data.index,index=data['Comments'])"
      ],
      "metadata": {
        "id": "DHVrCG1GFaSU"
      },
      "execution_count": null,
      "outputs": []
    },
    {
      "cell_type": "code",
      "source": [
        "indices"
      ],
      "metadata": {
        "colab": {
          "base_uri": "https://localhost:8080/"
        },
        "id": "UJUiZLzeFaPL",
        "outputId": "4616292f-a69c-4710-b1d3-8119a762e124"
      },
      "execution_count": null,
      "outputs": [
        {
          "output_type": "execute_result",
          "data": {
            "text/plain": [
              "Comments\n",
              "                                                                                                                                                                                                                                                                                                                      0\n",
              "Both times we were there very late, after 11 PM.  At that time in many diners (forget restaurants!) you get warmed-over food and lousy service.  Not so here - food was uniformly very good and the service quite good.  There weren't many people but it...More                                                      1\n",
              "Waitress was very friendly but a little pricey for a diner but the food was delicious \\nThe menu had a wide variety of foods to choose from but any choice would have been a good one                                                                                                                                 2\n",
              "Not sure why I went there for the second time. Will not go again. Not because it was terrible but because it is just average.  \\nThe place needs a food clean .... our menus were filthy...the table was filthy \\nIt is impossible to have a...More                                                                   3\n",
              "Doesn't look like much from the outside but walk in either the front door or back door and get greeted and sat almost immediately. Waitress was amazing and very helpful with the very large variety that they offer. My wife and I were very satisfied...More                                                        4\n",
              "                                                                                                                                                                                                                                                                                                                   ... \n",
              "We had to wait a few minutes to get it but it was well worth it. I would rate the salsa...THE BEST ever and it came with a basket of fresh chips for only $3!!! The fries also i would say the BEST i have...More                                                                                                  3057\n",
              "Came here to see Andrea Gibson perform, we were excited for the show but became even more excited when we saw what a cool spot this was, the Views and vibe were awesome and to match the ambiance, the service and food were phenomenal. We...More                                                                3058\n",
              "We come to Brio once a month. They are good food at a very reasonable price. Their selection of wine is great for a chain restaurant. We really like their attention to kids (ask for the pizza dough for them to play with and make...More                                                                        3059\n",
              "Stopped in yesterday for Breakfast. When in Jersey I will always go for Taylor Ham for Breakfast. I ordered Eggs Benedict and asked for Taylor Ham for the meat. When you cook Taylor Ham it is sliced very thin and I received my Eggs Benedict...More                                                            3060\n",
              "First time for dinner. 2 couples. Delicious mushroom soup and scallop and salad appetizers. Fish main dishes from the creative menu side prepared in a potato crust were super. Short ribs excellent. Daily special tortellini stuffed with meat was outstanding. Terrific service and frequent checking...More    3061\n",
              "Length: 3062, dtype: int64"
            ]
          },
          "metadata": {},
          "execution_count": 22
        }
      ]
    },
    {
      "cell_type": "code",
      "source": [
        "from sklearn.metrics.pairwise import cosine_similarity"
      ],
      "metadata": {
        "id": "GkXIzVrJJqWa"
      },
      "execution_count": null,
      "outputs": []
    },
    {
      "cell_type": "code",
      "source": [
        "similarity = cosine_similarity(tfidf_matrix, tfidf_matrix)"
      ],
      "metadata": {
        "id": "2TLN6PEAJr61"
      },
      "execution_count": null,
      "outputs": []
    },
    {
      "cell_type": "code",
      "source": [
        "def content_recommender(Comments, cosine_sim=cosine_sim, data=data, indices=indices):\n",
        "\n",
        "    index = indices[Comments]\n",
        "    sim_scores = list(enumerate(cosine_sim[index]))\n",
        "    sim_scores = sorted(sim_scores, key=lambda x: x[1], reverse=True)\n",
        "    sim_scores = sim_scores[1:11]\n",
        "    comments_indices = [i[0] for i in sim_scores]\n",
        "    return data['Comments'].iloc[comments_indices]"
      ],
      "metadata": {
        "id": "d0cY7WTiHAAK"
      },
      "execution_count": null,
      "outputs": []
    },
    {
      "cell_type": "code",
      "source": [
        "content_recommender(\"This is an easy any time place to have dinner!  From week night to a special occasion.  The food is reasonably priced and always delicious!\")"
      ],
      "metadata": {
        "colab": {
          "base_uri": "https://localhost:8080/"
        },
        "id": "OM9mYmPfOpRh",
        "outputId": "06365ada-169b-4c80-db72-8981a884df33"
      },
      "execution_count": null,
      "outputs": [
        {
          "output_type": "execute_result",
          "data": {
            "text/plain": [
              "1648    I was staying at the Super 8 next door.  Apple...\n",
              "801     Great place to celebrate an occasion or just t...\n",
              "1498    Great place to celebrate an occasion or just t...\n",
              "802     Very large portions of all items, including su...\n",
              "2970    The place is nicely decorated with cozy atmosp...\n",
              "2379    We have been to both the South Lake Union and ...\n",
              "660     2nd time eating here.  Service this time was e...\n",
              "2704    Jose Tejas is a great place to go to for lunch...\n",
              "2431    Too noisy. Hard to visit. Expensive. Food was ...\n",
              "2273    The menu was far too limited.  Hoping this was...\n",
              "Name: Comments, dtype: object"
            ]
          },
          "metadata": {},
          "execution_count": 26
        }
      ]
    }
  ]
}